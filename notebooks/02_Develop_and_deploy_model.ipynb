{
 "cells": [
  {
   "cell_type": "markdown",
   "id": "d07b6b74-7eca-44e8-8f34-66efd9b7153e",
   "metadata": {},
   "source": [
    "# Model development and deployment\n",
    "* In this stage, the prepared data is used for feature engineering and then model development.\n",
    "* The original definition of data quality for the `age` column is used to verify a consistent distribution between train and set sets.\n",
    "* The model is registered and served with a containerized MLFlow server."
   ]
  },
  {
   "cell_type": "code",
   "execution_count": null,
   "id": "e40059d0-a654-482f-b8e0-7d83e133b7c6",
   "metadata": {},
   "outputs": [],
   "source": [
    "import great_expectations as gx\n",
    "\n",
    "import json\n",
    "import mlflow\n",
    "import pandas as pd\n",
    "import pathlib\n",
    "import requests\n",
    "import sklearn\n",
    "import sqlalchemy\n",
    "from sklearn.ensemble import RandomForestClassifier\n",
    "\n",
    "import demo_code as demo"
   ]
  },
  {
   "cell_type": "markdown",
   "id": "e9b93aca-16f6-4ef8-ae70-6f3f8cae6335",
   "metadata": {},
   "source": [
    "Use MLflow autologging for feature engineering and model development."
   ]
  },
  {
   "cell_type": "code",
   "execution_count": null,
   "id": "880d744f-c4ff-41a6-96c5-51ffb5daf4b1",
   "metadata": {},
   "outputs": [],
   "source": [
    "mlflow.autolog()"
   ]
  },
  {
   "cell_type": "markdown",
   "id": "5485302f-4c21-4ff6-847f-a6271c651fa6",
   "metadata": {},
   "source": [
    "## Load prepared data"
   ]
  },
  {
   "cell_type": "markdown",
   "id": "44f4b7bf-9566-4e08-b77b-5ae544bb1861",
   "metadata": {},
   "source": [
    "Load the cleaned and curated data from the data preparation phase."
   ]
  },
  {
   "cell_type": "code",
   "execution_count": null,
   "id": "9c52f51a-f399-4c4b-8733-b37986b1436f",
   "metadata": {},
   "outputs": [],
   "source": [
    "df_prepared_data = pd.read_sql_query(\n",
    "    \"select * from heart_disease\",\n",
    "    con=sqlalchemy.create_engine(demo.data.POSTGRES_CONNECTION_STRING),\n",
    ")"
   ]
  },
  {
   "cell_type": "markdown",
   "id": "6916c558-2e22-4015-84e4-490b37c81e89",
   "metadata": {},
   "source": [
    "Display a sample of the prepared data."
   ]
  },
  {
   "cell_type": "code",
   "execution_count": null,
   "id": "33bb6026-ff6a-4d33-ad41-7d3625e4b022",
   "metadata": {},
   "outputs": [],
   "source": [
    "df_prepared_data.head(n=10)"
   ]
  },
  {
   "cell_type": "markdown",
   "id": "758965a3-510b-4b9e-bb9c-e460816ea05a",
   "metadata": {},
   "source": [
    "## Develop features for modeling"
   ]
  },
  {
   "cell_type": "markdown",
   "id": "0a98a216-b8bc-4b14-8ad0-a275c6a40d08",
   "metadata": {},
   "source": [
    "Define transformation function to turn prepared data into features."
   ]
  },
  {
   "cell_type": "code",
   "execution_count": null,
   "id": "dff204c5-bd4a-4cb9-9ceb-fbd41659e96d",
   "metadata": {},
   "outputs": [],
   "source": [
    "def featurize_data(df: pd.DataFrame) -> pd.DataFrame:\n",
    "    \"\"\"Transform data to features for training or inference.\"\"\"\n",
    "\n",
    "    df_features = df.copy().reset_index(drop=True)\n",
    "\n",
    "    # Scale (standardize) numeric features.\n",
    "    standard_scalar = sklearn.preprocessing.StandardScaler()\n",
    "\n",
    "    for col in [\"age\", \"trestbps\", \"chol\", \"thalach\", \"oldpeak\"]:\n",
    "        df_features[col] = standard_scalar.fit_transform(df_features[[col]])\n",
    "\n",
    "    # One hot encode cp.\n",
    "    cp_ohe = pd.DataFrame(\n",
    "        sklearn.preprocessing.OneHotEncoder()\n",
    "        .fit_transform(df_features[[\"cp\"]])\n",
    "        .todense()\n",
    "    )\n",
    "    cp_ohe.columns = [\"cp_0\", \"cp_1\", \"cp_2\", \"cp_3\"]\n",
    "\n",
    "    df_features = pd.concat([df_features, cp_ohe], axis=1)\n",
    "\n",
    "    # Limit to desired feature columns.\n",
    "    df_features = df_features[demo.data.FEATURE_COLUMNS]\n",
    "\n",
    "    return df_features"
   ]
  },
  {
   "cell_type": "markdown",
   "id": "253f593e-409e-4dee-a575-2a2c74d6fcfd",
   "metadata": {},
   "source": [
    "Preview feature transformation on prepared data."
   ]
  },
  {
   "cell_type": "code",
   "execution_count": null,
   "id": "43a65780-507a-4348-835f-500d03050e82",
   "metadata": {},
   "outputs": [],
   "source": [
    "featurize_data(df_prepared_data).head()"
   ]
  },
  {
   "cell_type": "markdown",
   "id": "9e914f1e-fb01-439d-8356-94b159f8077f",
   "metadata": {},
   "source": [
    "## Split data into train/test sets"
   ]
  },
  {
   "cell_type": "markdown",
   "id": "29296e12-cf47-4795-8284-dcf6d77ec0c5",
   "metadata": {},
   "source": [
    "Divide the prepared data into train and test sets.\n",
    "\n",
    "The `num` column is the last column in the dataset and contains the label."
   ]
  },
  {
   "cell_type": "code",
   "execution_count": null,
   "id": "43060adb-2e51-4210-b04a-022c875dcaa4",
   "metadata": {},
   "outputs": [],
   "source": [
    "X = df_prepared_data.iloc[:, :-1]\n",
    "y = df_prepared_data.iloc[:, -1]"
   ]
  },
  {
   "cell_type": "code",
   "execution_count": null,
   "id": "12939675-320c-411d-8790-57e2c7955b7a",
   "metadata": {},
   "outputs": [],
   "source": [
    "X_train, X_test, y_train, y_test = sklearn.model_selection.train_test_split(\n",
    "    X, y, train_size=0.8, test_size=0.2, random_state=42\n",
    ")\n",
    "\n",
    "X_train = X_train.reset_index(drop=True)\n",
    "y_train = y_train.reset_index(drop=True)\n",
    "\n",
    "X_test = X_test.reset_index(drop=True)\n",
    "y_test = y_test.reset_index(drop=True)\n",
    "\n",
    "print(f\"Train size:\\t{X_train.shape[0]}\")\n",
    "print(f\"Test size:\\t{X_test.shape[0]}\")\n",
    "print(f\"Total size:\\t{X_train.shape[0] + X_test.shape[0]}\")"
   ]
  },
  {
   "cell_type": "markdown",
   "id": "121ce63b-b50c-4fba-bb9e-c724ccd762b1",
   "metadata": {},
   "source": [
    "## Verify consistent `age` distributions in train and test set"
   ]
  },
  {
   "cell_type": "markdown",
   "id": "49bf5679-be07-4b02-9dbe-e07a5ac84ed8",
   "metadata": {},
   "source": [
    "Retrieve the distribution Expectation Suite from GX Cloud that was saved during the data preparation phase."
   ]
  },
  {
   "cell_type": "code",
   "execution_count": null,
   "id": "34375ced-96c2-4ab9-bdda-f3639ec62465",
   "metadata": {},
   "outputs": [],
   "source": [
    "cloud_context = gx.get_context(mode=\"cloud\")\n",
    "\n",
    "distribution_suite = cloud_context.suites.get(name=\"Heart disease data: distribution\")"
   ]
  },
  {
   "cell_type": "markdown",
   "id": "89326c49-94ba-440f-b57b-f7cd0aecce47",
   "metadata": {},
   "source": [
    "Create a local context and Data Source to apply data definitions at runtime in notebook exploration."
   ]
  },
  {
   "cell_type": "code",
   "execution_count": null,
   "id": "17d0b774-ade0-4a2a-b2b0-d2ac8eb78a2b",
   "metadata": {},
   "outputs": [],
   "source": [
    "local_context = gx.get_context(mode=\"ephemeral\")\n",
    "\n",
    "data_source = local_context.data_sources.add_pandas(\"pandas\")"
   ]
  },
  {
   "cell_type": "markdown",
   "id": "6916fed2-764d-49bb-85ef-f59c34c91fa1",
   "metadata": {},
   "source": [
    "Create the training set Data Asset, Batch Definition, and Batch."
   ]
  },
  {
   "cell_type": "code",
   "execution_count": null,
   "id": "21de7c49-d640-480c-be0a-77ed9b3b891d",
   "metadata": {},
   "outputs": [],
   "source": [
    "train_set_data_asset = data_source.add_dataframe_asset(name=\"train set features\")\n",
    "train_set_batch_definition = train_set_data_asset.add_batch_definition_whole_dataframe(\n",
    "    \"train set batch definition\"\n",
    ")\n",
    "\n",
    "train_set_batch = train_set_batch_definition.get_batch(\n",
    "    batch_parameters={\"dataframe\": X_train}\n",
    ")"
   ]
  },
  {
   "cell_type": "markdown",
   "id": "ec9ad41b-c4b7-4f4d-ae4b-339e4dfa4367",
   "metadata": {},
   "source": [
    "Create the test set Data Asset, Batch Definition, and Batch."
   ]
  },
  {
   "cell_type": "code",
   "execution_count": null,
   "id": "d79573c3-b71d-4c78-8851-2d1b8d6dab2f",
   "metadata": {},
   "outputs": [],
   "source": [
    "test_set_data_asset = data_source.add_dataframe_asset(name=\"test set features\")\n",
    "test_set_batch_definition = test_set_data_asset.add_batch_definition_whole_dataframe(\n",
    "    \"test set batch definition\"\n",
    ")\n",
    "\n",
    "test_set_batch = test_set_batch_definition.get_batch(\n",
    "    batch_parameters={\"dataframe\": X_test}\n",
    ")"
   ]
  },
  {
   "cell_type": "markdown",
   "id": "66d35a76-6770-435d-88f0-d56b0c41059b",
   "metadata": {},
   "source": [
    "Assert that the train and set sets both match the expected distribution of patient ages."
   ]
  },
  {
   "cell_type": "code",
   "execution_count": null,
   "id": "6c32ac7c-3468-489d-b92c-c258c3fbc41b",
   "metadata": {},
   "outputs": [],
   "source": [
    "assert train_set_batch.validate(distribution_suite)[\"success\"] is True\n",
    "assert test_set_batch.validate(distribution_suite)[\"success\"] is True"
   ]
  },
  {
   "cell_type": "markdown",
   "id": "969ea6db-9e10-47ef-83ff-3acb574f4361",
   "metadata": {},
   "source": [
    "## Featurize the data"
   ]
  },
  {
   "cell_type": "markdown",
   "id": "831305a5-1f0d-4211-874e-42c0f2515da9",
   "metadata": {},
   "source": [
    "Transform the prepared data into features for modeling."
   ]
  },
  {
   "cell_type": "code",
   "execution_count": null,
   "id": "de55e641-5e55-4317-a8a8-0462ba79b15e",
   "metadata": {},
   "outputs": [],
   "source": [
    "X_train.head()"
   ]
  },
  {
   "cell_type": "code",
   "execution_count": null,
   "id": "8af83d15-e486-46cf-970e-42d91a324483",
   "metadata": {},
   "outputs": [],
   "source": [
    "X_train = featurize_data(X_train)\n",
    "X_test = featurize_data(X_test)"
   ]
  },
  {
   "cell_type": "code",
   "execution_count": null,
   "id": "709f26b2-ffa6-4ad4-a3ab-24fd24473490",
   "metadata": {},
   "outputs": [],
   "source": [
    "X_train.head()"
   ]
  },
  {
   "cell_type": "markdown",
   "id": "02549de7-90af-48c8-afbf-a1da8c733b9b",
   "metadata": {},
   "source": [
    "## Train the model"
   ]
  },
  {
   "cell_type": "markdown",
   "id": "53fafcff-bb65-4082-a7cc-11f0e73ef07d",
   "metadata": {},
   "source": [
    "Train a simple model with sklearn. The performance of the model does not matter for this demo."
   ]
  },
  {
   "cell_type": "code",
   "execution_count": null,
   "id": "167cc6d4-aea2-4546-a350-71ad48d654c1",
   "metadata": {},
   "outputs": [],
   "source": [
    "demo_model = RandomForestClassifier(max_depth=4, random_state=0)\n",
    "\n",
    "demo_model.fit(X_train, y_train)\n",
    "\n",
    "prediction = demo_model.predict(X_test)"
   ]
  },
  {
   "cell_type": "markdown",
   "id": "fbc979dd-1991-4dff-94f2-8f7ce2dd02ce",
   "metadata": {},
   "source": [
    "View the trained model scores."
   ]
  },
  {
   "cell_type": "code",
   "execution_count": null,
   "id": "50c1d6d9-d7b9-40b9-ba59-df4d4a40ec3e",
   "metadata": {},
   "outputs": [],
   "source": [
    "accuracy_score = sklearn.metrics.accuracy_score(y_test, prediction)\n",
    "print(f\"Accuracy:\\t\\t{round(accuracy_score, 2)}\")\n",
    "\n",
    "xval_score = sklearn.model_selection.cross_val_score(\n",
    "    demo_model,\n",
    "    X_train,\n",
    "    y_train,\n",
    "    cv=sklearn.model_selection.RepeatedStratifiedKFold(\n",
    "        n_splits=10, n_repeats=3, random_state=1\n",
    "    ),\n",
    "    scoring=\"roc_auc\",\n",
    ").mean()\n",
    "print(f\"Cross validation score:\\t{round(xval_score,2)}\")\n",
    "\n",
    "roc_auc_score = sklearn.metrics.roc_auc_score(y_test, prediction)\n",
    "print(f\"ROC_AUC score:\\t\\t{round(roc_auc_score,2)}\")"
   ]
  },
  {
   "cell_type": "markdown",
   "id": "2c1e32bf-c898-49e4-8437-2b341ff4f51b",
   "metadata": {},
   "source": [
    "## Deploy the model"
   ]
  },
  {
   "cell_type": "markdown",
   "id": "0740ef6a-1937-47c7-b5cf-029ae0b02ffe",
   "metadata": {},
   "source": [
    "### Log the model to MLflow Tracking server"
   ]
  },
  {
   "cell_type": "code",
   "execution_count": null,
   "id": "9008646e-05a7-4649-b28f-65b7e574ebc4",
   "metadata": {},
   "outputs": [],
   "source": [
    "# Log the model.\n",
    "model_info = mlflow.sklearn.log_model(\n",
    "    sk_model=demo_model,\n",
    "    artifact_path=\"sklearn-model-test\",\n",
    "    input_example=X_train,\n",
    "    registered_model_name=\"demo-model\",\n",
    ")"
   ]
  },
  {
   "cell_type": "markdown",
   "id": "4f0b3f12-0c01-455c-8798-894857723899",
   "metadata": {},
   "source": [
    "### Serve the model"
   ]
  },
  {
   "cell_type": "markdown",
   "id": "7943e78f-16fe-49d7-898a-9b2b2aac6829",
   "metadata": {},
   "source": [
    "Run the generated command in your host terminal to serve the model within the demo MLflow Docker container."
   ]
  },
  {
   "cell_type": "code",
   "execution_count": null,
   "id": "fe37081f-3e22-40db-b456-71a2586b5a51",
   "metadata": {},
   "outputs": [],
   "source": [
    "model_serve_command = f\"mlflow models serve -m {model_info.model_uri} --env-manager virtualenv -p 5555 -h 0.0.0.0\"\n",
    "docker_exec_wrapper = (\n",
    "    f\"docker exec gx-in-the-ml-pipeline-mlflow bash -c '{model_serve_command}'\"\n",
    ")\n",
    "\n",
    "print(\"Run the following command to serve the model:\\n\")\n",
    "print(docker_exec_wrapper)"
   ]
  },
  {
   "cell_type": "markdown",
   "id": "a3732134-7c65-4164-8f2a-685dc959f73c",
   "metadata": {},
   "source": [
    "## Use deployed model for inference"
   ]
  },
  {
   "cell_type": "markdown",
   "id": "08892001-16c9-414a-b3eb-b543fb0b3d49",
   "metadata": {},
   "source": [
    "### Verify that deployed model is available and running"
   ]
  },
  {
   "cell_type": "markdown",
   "id": "54e90214-96f6-44f0-9e02-794166b5c978",
   "metadata": {},
   "source": [
    "Before scoring new data, ping the model to check that it is running."
   ]
  },
  {
   "cell_type": "code",
   "execution_count": null,
   "id": "280754a9-de8f-4c0f-883d-dba6c3da0242",
   "metadata": {},
   "outputs": [],
   "source": [
    "requests.get(url=f\"http://mlflow:5555/ping\")"
   ]
  },
  {
   "cell_type": "markdown",
   "id": "7b65a5b6-bd15-4f36-b8fd-11790c97debd",
   "metadata": {},
   "source": [
    "### Run inference on sample data point"
   ]
  },
  {
   "cell_type": "markdown",
   "id": "532f23ab-7b0a-4b75-9553-961d6470b027",
   "metadata": {},
   "source": [
    "Generate a new data point to score with the deployed model."
   ]
  },
  {
   "cell_type": "code",
   "execution_count": null,
   "id": "018ede27-9b5a-4183-bc46-9701ad5aac97",
   "metadata": {},
   "outputs": [],
   "source": [
    "sample_input = {\n",
    "    \"columns\": [\n",
    "        \"age\",\n",
    "        \"sex\",\n",
    "        \"cp_0\",\n",
    "        \"cp_1\",\n",
    "        \"cp_2\",\n",
    "        \"cp_3\",\n",
    "        \"trestbps\",\n",
    "        \"chol\",\n",
    "        \"fbs\",\n",
    "        \"restecg\",\n",
    "        \"thalach\",\n",
    "        \"exang\",\n",
    "        \"oldpeak\",\n",
    "        \"slope\",\n",
    "        \"ca\",\n",
    "        \"thal\",\n",
    "    ],\n",
    "    \"data\": [\n",
    "        [\n",
    "            1.0073855590677647,\n",
    "            1,\n",
    "            0.0,\n",
    "            0.0,\n",
    "            0.0,\n",
    "            1.0,\n",
    "            0.412888910628608,\n",
    "            0.5497692967873232,\n",
    "            0.0,\n",
    "            1.0,\n",
    "            -0.9858895025925402,\n",
    "            1.0,\n",
    "            1.9450130929477942,\n",
    "            2.0,\n",
    "            0,\n",
    "            0,\n",
    "        ]\n",
    "    ],\n",
    "}"
   ]
  },
  {
   "cell_type": "markdown",
   "id": "a7903be6-107a-422c-b082-8d2f5e3d2b87",
   "metadata": {},
   "source": [
    "Use a HTTP request to send data to deployed model."
   ]
  },
  {
   "cell_type": "code",
   "execution_count": null,
   "id": "62e6cdbe-d432-4613-8c36-107b29ab527e",
   "metadata": {},
   "outputs": [],
   "source": [
    "request_payload = json.dumps(\n",
    "    {\n",
    "        \"dataframe_split\": sample_input,\n",
    "    }\n",
    ")\n",
    "\n",
    "response = requests.post(\n",
    "    url=f\"http://mlflow:5555/invocations\",\n",
    "    headers={\"Content-Type\": \"application/json\"},\n",
    "    data=request_payload,\n",
    ")"
   ]
  },
  {
   "cell_type": "markdown",
   "id": "efa66f5a-552c-4e00-9144-12e825ad0a75",
   "metadata": {},
   "source": [
    "Parse request response for the model prediction."
   ]
  },
  {
   "cell_type": "code",
   "execution_count": null,
   "id": "eb39e2d0-4bba-4f61-a8ee-4baca91fdae1",
   "metadata": {},
   "outputs": [],
   "source": [
    "prediction_to_description = {0: \"no heart disease present\", 1: \"heart disease present\"}\n",
    "\n",
    "prediction = response.json()[\"predictions\"][0]\n",
    "\n",
    "print(f\"Model prediction: {prediction_to_description[prediction]}\")"
   ]
  }
 ],
 "metadata": {
  "kernelspec": {
   "display_name": "gx-in-the-ml-pipeline",
   "language": "python",
   "name": "gx-in-the-ml-pipeline"
  },
  "language_info": {
   "codemirror_mode": {
    "name": "ipython",
    "version": 3
   },
   "file_extension": ".py",
   "mimetype": "text/x-python",
   "name": "python",
   "nbconvert_exporter": "python",
   "pygments_lexer": "ipython3",
   "version": "3.11.10"
  }
 },
 "nbformat": 4,
 "nbformat_minor": 5
}
