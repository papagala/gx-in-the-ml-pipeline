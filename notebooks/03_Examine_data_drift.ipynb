{
 "cells": [
  {
   "cell_type": "markdown",
   "id": "cd10f822-cdab-4170-8844-e9db72afa2ce",
   "metadata": {},
   "source": [
    "# Monitoring: Examine data drift\n",
    "* In this stage, the new input data seen after model deployment is examined for data drift based on the original data quality definitions, saved as GX Expectation Suites.\n",
    "* New input data is based on data from the UCI ML Repository [Statlog (Heart) dataset](https://archive.ics.uci.edu/dataset/145/statlog+heart)."
   ]
  },
  {
   "cell_type": "code",
   "execution_count": null,
   "id": "f49b7e28-4812-47fa-8355-e13a851b23e8",
   "metadata": {},
   "outputs": [],
   "source": [
    "import great_expectations as gx\n",
    "\n",
    "import demo_code as demo"
   ]
  },
  {
   "cell_type": "markdown",
   "id": "8e3645e7-2525-4c57-b372-b8722340236c",
   "metadata": {},
   "source": [
    "## Load new incoming patient data"
   ]
  },
  {
   "cell_type": "markdown",
   "id": "a8d387e5-b66f-4e98-b70d-90d22734ba63",
   "metadata": {},
   "source": [
    "Load the \"new\" patient data: live data that has arrived since the model was deployed."
   ]
  },
  {
   "cell_type": "code",
   "execution_count": null,
   "id": "eefb87cf-2ef3-406b-a053-e948e2e85d61",
   "metadata": {},
   "outputs": [],
   "source": [
    "df_new_patient_data = demo.data.get_new_patient_data()\n",
    "df_new_patient_data.head(n=10)"
   ]
  },
  {
   "cell_type": "markdown",
   "id": "105d69d7-680d-451e-a279-fa71a810cb02",
   "metadata": {},
   "source": [
    "Persist the new patient data in a Postgres table for data validation with GX."
   ]
  },
  {
   "cell_type": "code",
   "execution_count": null,
   "id": "5d3fd7c7-58de-4bb8-9a0c-3933ee05ffb3",
   "metadata": {},
   "outputs": [],
   "source": [
    "rows_written = demo.data.write_df_to_postgres(\n",
    "    table_name=\"heart_disease_new_data\", df=df_new_patient_data\n",
    ")\n",
    "print(f\"{rows_written} rows written to Postgres.\")"
   ]
  },
  {
   "cell_type": "markdown",
   "id": "a737a767-a860-466b-97f2-33d44278341d",
   "metadata": {},
   "source": [
    "## Retrieve Expectation Suite that defined quality for original data"
   ]
  },
  {
   "cell_type": "markdown",
   "id": "00c846b1-12be-492e-a3d2-8d6d9d296849",
   "metadata": {},
   "source": [
    "Use a Cloud Data Context to retrieve the original definitions of (data preparation and model development) data quality, or Expectation Suites, from GX Cloud."
   ]
  },
  {
   "cell_type": "code",
   "execution_count": null,
   "id": "ea922bc7-fa9e-4039-a6a0-6ee35368fcfa",
   "metadata": {
    "scrolled": true
   },
   "outputs": [],
   "source": [
    "# Retrieve existing Expectation Suites from GX Cloud.\n",
    "cloud_context = gx.get_context(mode=\"cloud\")\n",
    "\n",
    "distribution_suite = cloud_context.suites.get(name=\"Heart disease data: distribution\")\n",
    "\n",
    "schema_and_validity_suite = cloud_context.suites.get(\n",
    "    name=\"Heart disease data: schema and validity\"\n",
    ")"
   ]
  },
  {
   "cell_type": "markdown",
   "id": "257c77ea-0ff4-4b90-ae1b-caaff881275b",
   "metadata": {},
   "source": [
    "## Review comparision of training and live data quality using Data Docs"
   ]
  },
  {
   "cell_type": "markdown",
   "id": "39d11818-55bd-4a6b-adc4-7bfebcf6ee3d",
   "metadata": {},
   "source": [
    "Create a Ephemeral Data Context to run data validation locally and write the results of validation to Data Docs. The code below uses the same entities and workflow as shown in `01_Prep_data.ipynb`."
   ]
  },
  {
   "cell_type": "code",
   "execution_count": null,
   "id": "896c09dd-caab-4dfb-bf26-33768c16a4ae",
   "metadata": {},
   "outputs": [],
   "source": [
    "# Code to create a containerized Data Docs site for demo.\n",
    "local_context = gx.get_context(mode=\"ephemeral\")\n",
    "\n",
    "# Code to create a containerized Data Docs site for demo.\n",
    "local_context.add_data_docs_site(\n",
    "    site_config={\n",
    "        \"class_name\": \"SiteBuilder\",\n",
    "        \"show_how_to_buttons\": False,\n",
    "        \"store_backend\": {\n",
    "            \"class_name\": \"TupleFilesystemStoreBackend\",\n",
    "            \"base_directory\": \"/gx/gx_volume/data_docs\",\n",
    "        },\n",
    "        \"site_index_builder\": {\"class_name\": \"DefaultSiteIndexBuilder\"},\n",
    "    },\n",
    "    site_name=\"GX in the ML pipeline demo\",\n",
    ")\n",
    "\n",
    "data_source = local_context.data_sources.add_postgres(\n",
    "    \"postgres\", connection_string=demo.data.POSTGRES_CONNECTION_STRING\n",
    ")\n",
    "\n",
    "data_asset = data_source.add_table_asset(\n",
    "    name=\"New heart disease data\", table_name=\"heart_disease_new_data\"\n",
    ")\n",
    "\n",
    "batch_definition = data_asset.add_batch_definition_whole_table(\n",
    "    \"new data batch definition\"\n",
    ")\n",
    "\n",
    "local_context.suites.add(schema_and_validity_suite)\n",
    "local_context.suites.add(distribution_suite)\n",
    "\n",
    "schema_and_validity_validation_definition = gx.ValidationDefinition(\n",
    "    name=\"schema and validity validation definition\",\n",
    "    data=batch_definition,\n",
    "    suite=schema_and_validity_suite,\n",
    ")\n",
    "\n",
    "distribution_validation_definition = gx.ValidationDefinition(\n",
    "    name=\"distribution validation definition\",\n",
    "    data=batch_definition,\n",
    "    suite=distribution_suite,\n",
    ")\n",
    "\n",
    "local_context.validation_definitions.add(schema_and_validity_validation_definition)\n",
    "local_context.validation_definitions.add(distribution_validation_definition)\n",
    "\n",
    "checkpoint = local_context.checkpoints.add(\n",
    "    gx.Checkpoint(\n",
    "        name=\"checkpoint\",\n",
    "        validation_definitions=[\n",
    "            schema_and_validity_validation_definition,\n",
    "            distribution_validation_definition,\n",
    "        ],\n",
    "        actions=[gx.checkpoint.actions.UpdateDataDocsAction(name=\"update_data_docs\")],\n",
    "    )\n",
    ")\n",
    "\n",
    "results = checkpoint.run()"
   ]
  },
  {
   "cell_type": "markdown",
   "id": "6e541256-d489-41b2-8de4-ad1a0838e097",
   "metadata": {},
   "source": [
    "### View Expectation Suite and Validation Results in [Data Docs](http://localhost:3000)"
   ]
  },
  {
   "cell_type": "markdown",
   "id": "512612a2-34ef-4d7e-b965-11a2c66fa735",
   "metadata": {},
   "source": [
    "## Review comparision of training and live data quality using GX Cloud"
   ]
  },
  {
   "cell_type": "markdown",
   "id": "a46bf12b-ab98-41a6-9b51-60912a2dd1a3",
   "metadata": {},
   "source": [
    "Create a Cloud Data Context. Add a Data Asset for the new data, and validate it using the original Expectation Suites developed in the data preparation phase. The code below uses the same entities and workflow as shown in `01_Prep_data.ipynb`."
   ]
  },
  {
   "cell_type": "code",
   "execution_count": null,
   "id": "7e564aa9-630b-49d2-bfd3-6d85420c26aa",
   "metadata": {},
   "outputs": [],
   "source": [
    "cloud_context = gx.get_context(mode=\"cloud\")\n",
    "\n",
    "data_source = cloud_context.data_sources.get(\"demo database\")\n",
    "\n",
    "data_asset = data_source.add_table_asset(\n",
    "    name=\"New heart disease data\", table_name=\"heart_disease_new_data\"\n",
    ")\n",
    "\n",
    "batch_definition = data_asset.add_batch_definition_whole_table(\n",
    "    \"new data batch definition\"\n",
    ")\n",
    "\n",
    "cloud_schema_and_validity_validation_definition = gx.ValidationDefinition(\n",
    "    name=\"new data schema and validity validation definition\",\n",
    "    data=batch_definition,\n",
    "    suite=cloud_context.suites.get(name=\"Heart disease data: schema and validity\"),\n",
    ")\n",
    "\n",
    "cloud_distribution_validation_definition = gx.ValidationDefinition(\n",
    "    name=\"new data distribution validation definition\",\n",
    "    data=batch_definition,\n",
    "    suite=cloud_context.suites.get(name=\"Heart disease data: distribution\"),\n",
    ")\n",
    "\n",
    "cloud_context.validation_definitions.add(\n",
    "    cloud_schema_and_validity_validation_definition\n",
    ")\n",
    "\n",
    "cloud_context.validation_definitions.add(cloud_distribution_validation_definition)\n",
    "\n",
    "cloud_checkpoint = cloud_context.checkpoints.add(\n",
    "    gx.Checkpoint(\n",
    "        name=\"New heart disease data checkpoint\",\n",
    "        validation_definitions=[\n",
    "            cloud_schema_and_validity_validation_definition,\n",
    "            cloud_distribution_validation_definition,\n",
    "        ],\n",
    "    )\n",
    ")\n",
    "\n",
    "results = cloud_checkpoint.run()"
   ]
  },
  {
   "cell_type": "markdown",
   "id": "57d2cc9f-4c0a-4bfa-aff7-d66f1cff528a",
   "metadata": {},
   "source": [
    "### View Expectation Suites and Validation Results in [GX Cloud](https://app.greatexpectations.io)"
   ]
  }
 ],
 "metadata": {
  "kernelspec": {
   "display_name": "gx-in-the-ml-pipeline",
   "language": "python",
   "name": "gx-in-the-ml-pipeline"
  },
  "language_info": {
   "codemirror_mode": {
    "name": "ipython",
    "version": 3
   },
   "file_extension": ".py",
   "mimetype": "text/x-python",
   "name": "python",
   "nbconvert_exporter": "python",
   "pygments_lexer": "ipython3",
   "version": "3.11.10"
  }
 },
 "nbformat": 4,
 "nbformat_minor": 5
}
