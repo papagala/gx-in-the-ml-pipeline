{
 "cells": [
  {
   "cell_type": "code",
   "execution_count": null,
   "id": "1275f511-9c91-4a61-8af9-111afeb61209",
   "metadata": {},
   "outputs": [],
   "source": [
    "import collections\n",
    "import io\n",
    "import shutil\n",
    "import zipfile\n",
    "\n",
    "from typing import Union\n",
    "\n",
    "import great_expectations as gx\n",
    "import great_expectations.expectations as gxe\n",
    "import pandas as pd\n",
    "import pathlib\n",
    "import requests\n",
    "import ucimlrepo"
   ]
  },
  {
   "cell_type": "markdown",
   "id": "95a72d6b-b7dd-4b8e-a9de-d93153c66437",
   "metadata": {},
   "source": [
    "## Fetch data"
   ]
  },
  {
   "cell_type": "markdown",
   "id": "0a6569f8-f76d-45a7-8159-026edf37a32f",
   "metadata": {},
   "source": [
    "Download heart disease data from https://archive.ics.uci.edu/dataset/45/heart+disease."
   ]
  },
  {
   "cell_type": "code",
   "execution_count": null,
   "id": "32b54e29-1d83-4f2f-8cfd-4add5b43df28",
   "metadata": {},
   "outputs": [],
   "source": [
    "DATA_DIR = pathlib.Path(\"/notebooks/data\")"
   ]
  },
  {
   "cell_type": "code",
   "execution_count": null,
   "id": "cd638797-315f-4169-8fb4-b7cd19cff59a",
   "metadata": {},
   "outputs": [],
   "source": [
    "response = requests.get(\"https://archive.ics.uci.edu/static/public/45/heart+disease.zip\")\n",
    "\n",
    "if False:\n",
    "    print(\"Fetching data...\")\n",
    "    if response.status_code == 200:\n",
    "        shutil.rmtree(DATA_DIR)\n",
    "        DATA_DIR.mkdir(parents=True, exist_ok=True)\n",
    "    \n",
    "        with zipfile.ZipFile(io.BytesIO(response.content)) as fh:\n",
    "            fh.extractall(DATA_DIR)\n",
    "            print(\"Downloaded data.\")\n",
    "    else:\n",
    "        print(f\"Failed to download data: {response.status_code}\")\n",
    "else:\n",
    "    print(\"Not attempting to download data.\")"
   ]
  },
  {
   "cell_type": "markdown",
   "id": "3569b35b-5c9c-4f71-93e9-78170493fe11",
   "metadata": {},
   "source": [
    "## Ingest data"
   ]
  },
  {
   "cell_type": "code",
   "execution_count": null,
   "id": "9f8e7ee3-c321-442f-b174-caf8448083e5",
   "metadata": {},
   "outputs": [],
   "source": [
    "COL2DESCRIPTION = collections.OrderedDict({\n",
    "    \"age\" : \"Age in years\",\n",
    "    \"sex\" : \"sex; 1: male, 0: female\",\n",
    "    \"cp\" : \"Chest pain type; 1: typical angina, 2: atypical angina, 3: non-anginal pain, 4: asymptomatic\",\n",
    "    \"trestbps\" : \"Resting blood pressure in mm Hg on admission to the hospital\",\n",
    "    \"chol\" : \"Serum cholesterol in mg/dl\",\n",
    "    \"fbs\" : \"Fasting blood sugar > 120 mg/dl; 1: true, 0: false\",\n",
    "    \"restecg\" : \"Resting electrocardiographic results; 0: normal, 1: having ST-T wave abnormality, 2: showing probable or definite left ventricular hypertrophy\",\n",
    "    \"thalach\" : \"Maximum heart rate achieved\",\n",
    "    \"exang\" : \"Exercise induced angina; 1: yes, 0: no\",\n",
    "    \"oldpeak\" : \"ST depression induced by exercise relative to rest\",\n",
    "    \"slope\" : \"Slope of the peak exercise ST segment; 1: upsloping, 2: flat, 3: downsloping\",\n",
    "    \"ca\" : \"Major vessels (0-3) colored by flourosopy\",\n",
    "    \"thal\" : \"Heart defect; 3 = normal; 6 = fixed defect; 7 = reversable defect\",\n",
    "    \"num\" : \"Diagnosis of heart disease\",\n",
    "})\n",
    "\n",
    "COLUMNS = list(COL2DESCRIPTION.keys())"
   ]
  },
  {
   "cell_type": "code",
   "execution_count": null,
   "id": "44032891-9905-48c4-a2a0-065f2c153cd9",
   "metadata": {},
   "outputs": [],
   "source": [
    "DATASET_NAME2FILE = {\n",
    "    \"va\" : \"processed.va.data\",\n",
    "    \"hungarian\" : \"processed.hungarian.data\",\n",
    "    \"switzerland\" : \"processed.switzerland.data\",\n",
    "    \"cleveland\" : \"processed.cleveland.data\",\n",
    "}\n",
    "\n",
    "samples = []\n",
    "\n",
    "for dataset_name, dataset_file in DATASET_NAME2FILE.items():\n",
    "    df_dataset = pd.read_csv(DATA_DIR / dataset_file, names=COLUMNS)\n",
    "    df_dataset[\"dataset\"] = dataset_name\n",
    "    samples.append(df_dataset)\n",
    "\n",
    "df_heart_disease = pd.concat(samples)"
   ]
  },
  {
   "cell_type": "code",
   "execution_count": null,
   "id": "fe7609d5-4183-40da-90fb-cef2ca07914f",
   "metadata": {},
   "outputs": [],
   "source": [
    "display(df_heart_disease.head())\n",
    "display(df_heart_disease.tail())"
   ]
  },
  {
   "cell_type": "code",
   "execution_count": null,
   "id": "be1dc36e-9c46-492c-8c32-e77712131790",
   "metadata": {},
   "outputs": [],
   "source": [
    "df_heart_disease.dtypes"
   ]
  },
  {
   "cell_type": "markdown",
   "id": "c7a67c8e-88f1-4981-8a14-500cec33d53b",
   "metadata": {},
   "source": [
    "## Examine raw data relative to Expectations"
   ]
  },
  {
   "cell_type": "code",
   "execution_count": null,
   "id": "4d5d5c2c-728e-46e7-b00e-26974a33122c",
   "metadata": {},
   "outputs": [],
   "source": [
    "# Get Data Context.\n",
    "context = gx.get_context()"
   ]
  },
  {
   "cell_type": "code",
   "execution_count": null,
   "id": "120708d5-370a-48d3-b3c0-83f893803a1b",
   "metadata": {},
   "outputs": [],
   "source": [
    "# Create dockerized Data Docs site for demo.\n",
    "context.add_data_docs_site(\n",
    "    site_config={\n",
    "        \"class_name\": \"SiteBuilder\",\n",
    "        \"show_how_to_buttons\": False,\n",
    "        \"store_backend\":\n",
    "            {\n",
    "                \"class_name\": \"TupleFilesystemStoreBackend\",\n",
    "                \"base_directory\": \"/gx/gx_volume/data_docs\",\n",
    "            },\n",
    "        \"site_index_builder\" : {\"class_name\": \"DefaultSiteIndexBuilder\"},\n",
    "    },\n",
    "    site_name=\"GX in the ML pipeline demo\"\n",
    ")"
   ]
  },
  {
   "cell_type": "code",
   "execution_count": null,
   "id": "c45e3838-263e-473b-bbc1-595252b71106",
   "metadata": {},
   "outputs": [],
   "source": [
    "# Create Data Source, Data Asset, Batch Definition, and get Batch.\n",
    "data_source = context.data_sources.add_pandas(\"pandas\")\n",
    "data_asset = data_source.add_dataframe_asset(name=\"heart disease data\")\n",
    "\n",
    "batch_definition = data_asset.add_batch_definition_whole_dataframe(\"batch definition\")\n",
    "batch = batch_definition.get_batch(batch_parameters={\"dataframe\": df_heart_disease})\n",
    "\n",
    "# Create an Expectation Suite.\n",
    "suite = context.suites.add(\n",
    "    gx.core.expectation_suite.ExpectationSuite(name=\"expectations\")\n",
    ")"
   ]
  },
  {
   "cell_type": "code",
   "execution_count": null,
   "id": "e498cb24-8f35-479e-8081-d8a55d14d0e3",
   "metadata": {},
   "outputs": [],
   "source": [
    "# Create and add Expectations to the Suite, based on provided data definitions.\n",
    "suite.add_expectation(gxe.ExpectColumnValuesToBeBetween(column=\"age\", min_value=0, max_value=99))\n",
    "suite.add_expectation(gxe.ExpectColumnValuesToBeInSet(column=\"sex\", value_set=[0, 1]))\n",
    "suite.add_expectation(gxe.ExpectColumnValuesToBeInSet(column=\"cp\", value_set=[1,2,3,4]))\n",
    "suite.add_expectation(gxe.ExpectColumnValuesToBeOfType(column=\"trestbps\", type_=\"int\"))\n",
    "\n",
    "# Run Expectations against data.\n",
    "validation_result = batch.validate(suite)"
   ]
  },
  {
   "cell_type": "markdown",
   "id": "b3a140e3-86ee-4af6-8610-17041136f3d0",
   "metadata": {},
   "source": [
    "## Explore Validation Results"
   ]
  },
  {
   "cell_type": "code",
   "execution_count": null,
   "id": "bee165f8-577e-4a55-871f-00d9f18304b2",
   "metadata": {},
   "outputs": [],
   "source": [
    "type(validation_result)"
   ]
  },
  {
   "cell_type": "code",
   "execution_count": null,
   "id": "b34949c0-46a1-42f0-94c9-bbf0b5233708",
   "metadata": {},
   "outputs": [],
   "source": [
    "validation_result.describe_dict().keys()"
   ]
  },
  {
   "cell_type": "code",
   "execution_count": null,
   "id": "80c1cc8b-57a2-4391-8f67-005acee6c25b",
   "metadata": {},
   "outputs": [],
   "source": [
    "validation_result.describe_dict()[\"success\"]"
   ]
  },
  {
   "cell_type": "code",
   "execution_count": null,
   "id": "6d8331a4-2f2c-4483-8c53-95ae0b6e12a8",
   "metadata": {},
   "outputs": [],
   "source": [
    "validation_result.describe_dict()[\"statistics\"]"
   ]
  },
  {
   "cell_type": "code",
   "execution_count": null,
   "id": "f9da82b7-f0c0-4484-9c3d-73cb004b7dc2",
   "metadata": {},
   "outputs": [],
   "source": [
    "print(validation_result.describe_dict()[\"result_url\"])"
   ]
  },
  {
   "cell_type": "code",
   "execution_count": null,
   "id": "d4f7ba72-95d2-4a95-a68c-e212341890eb",
   "metadata": {},
   "outputs": [],
   "source": [
    "validation_result.describe_dict()[\"expectations\"][0]"
   ]
  },
  {
   "cell_type": "code",
   "execution_count": null,
   "id": "8b3b6bb3-db79-4dab-b9c6-58f63966e8ff",
   "metadata": {},
   "outputs": [],
   "source": [
    "expectation_results = []\n",
    "\n",
    "for expectation_result in validation_result.describe_dict()[\"expectations\"]:\n",
    "\n",
    "    params = expectation_result[\"kwargs\"].copy()\n",
    "    del params[\"batch_id\"]\n",
    "    del params[\"column\"]\n",
    "    \n",
    "    expectation_results.append(\n",
    "        {\n",
    "            \"expectation\" : expectation_result[\"expectation_type\"],\n",
    "            \"column\" : expectation_result[\"kwargs\"][\"column\"],\n",
    "            \"params\" : params,\n",
    "            \"success\" : expectation_result[\"success\"],\n",
    "            \"element_count\" : expectation_result[\"result\"][\"element_count\"],\n",
    "            \"unexpected_count\" : expectation_result[\"result\"][\"unexpected_count\"],\n",
    "            \"unexpected_percent\" : expectation_result[\"result\"][\"unexpected_percent\"],\n",
    "            \"missing_count\" : expectation_result[\"result\"][\"missing_count\"],\n",
    "            \"missing_percent\" : expectation_result[\"result\"][\"missing_percent\"],\n",
    "        }\n",
    "    )\n",
    "\n",
    "df_expectation_results = pd.DataFrame(expectation_results)\n",
    "df_expectation_results"
   ]
  },
  {
   "cell_type": "markdown",
   "id": "8856de6c-cbc9-4b5f-8fd8-529d34662ec6",
   "metadata": {},
   "source": [
    "## Explore Validation Results in Data Docs"
   ]
  },
  {
   "cell_type": "code",
   "execution_count": null,
   "id": "9175680f-aff1-4ba8-823f-c401beb16fe0",
   "metadata": {},
   "outputs": [],
   "source": [
    "validation_definition = gx.ValidationDefinition(\n",
    "    name=\"demo validation definition\",\n",
    "    data=batch_definition,\n",
    "    suite=suite,\n",
    ")\n",
    "\n",
    "results = validation_definition.run(batch_parameters={\"dataframe\": df_heart_disease})"
   ]
  },
  {
   "cell_type": "code",
   "execution_count": null,
   "id": "133dad8f-64a2-4989-8661-655ac3d73dd8",
   "metadata": {},
   "outputs": [],
   "source": [
    "context.list_data_docs_sites()"
   ]
  },
  {
   "cell_type": "code",
   "execution_count": null,
   "id": "93dee35a-f9fb-4e05-9e7c-46a19c111849",
   "metadata": {},
   "outputs": [],
   "source": [
    "checkpoint = context.checkpoints.add(gx.Checkpoint(\n",
    "    name=\"checkpoint\",\n",
    "    validation_definitions=[validation_definition],\n",
    "    actions=[gx.checkpoint.actions.UpdateDataDocsAction(name=\"update_data_docs\")]\n",
    "))\n",
    "\n",
    "results = checkpoint.run(batch_parameters={\"dataframe\": df_heart_disease})"
   ]
  },
  {
   "cell_type": "markdown",
   "id": "faebcb10-43e9-49c5-9ca5-f459ff0cb230",
   "metadata": {},
   "source": [
    "<mark>**Check out results in Data Docs.**</mark>"
   ]
  },
  {
   "cell_type": "markdown",
   "id": "c95b5939-752d-4372-86fd-68573295daeb",
   "metadata": {},
   "source": [
    "## Clean data and establish governing Expectation Suite"
   ]
  },
  {
   "cell_type": "code",
   "execution_count": null,
   "id": "388a9fd6-be5b-4165-b031-fd084c0f4c7f",
   "metadata": {},
   "outputs": [],
   "source": [
    "df_cleaned = df_heart_disease.copy()\n",
    "\n",
    "final_suite = gx.core.expectation_suite.ExpectationSuite(name=\"Heart disease data expectations\")\n",
    "\n",
    "def clean_question_mark_for_float_columns(x: str) -> Union[float, None]:\n",
    "    \"Nullify question marks and return figures as floats.\"\n",
    "    x = str(x).strip()\n",
    "    if x == \"?\":\n",
    "        return None\n",
    "    else:\n",
    "        return float(x)\n",
    "\n",
    "def clean_question_mark_for_int_columns(x: str) -> Union[int, None]:\n",
    "    \"Nullify question marks and return figures as int.\"\n",
    "    x = str(x).strip()\n",
    "    if x == \"?\":\n",
    "        return None\n",
    "    else:\n",
    "        return int(float(x))\n",
    "\n",
    "MOSTLY = 0.9\n",
    "\n",
    "# Dataset schema expectations.\n",
    "final_suite.add_expectation(gxe.ExpectTableColumnsToMatchSet(column_set=COLUMNS))\n",
    "\n",
    "# Age\n",
    "df_cleaned[\"age\"] = df_cleaned[\"age\"].astype(int)\n",
    "final_suite.add_expectation(gxe.ExpectColumnValuesToBeOfType(column=\"age\", type_=\"int\"))\n",
    "final_suite.add_expectation(gxe.ExpectColumnValuesToBeBetween(column=\"age\", min_value=0))\n",
    "\n",
    "# Sex\n",
    "df_cleaned[\"sex\"] = df_cleaned[\"sex\"].astype(int)\n",
    "final_suite.add_expectation(gxe.ExpectColumnValuesToBeOfType(column=\"sex\", type_=\"int\"))\n",
    "final_suite.add_expectation(gxe.ExpectColumnValuesToBeInSet(column=\"sex\", value_set=[0, 1]))\n",
    "\n",
    "# Chest pain\n",
    "df_cleaned[\"cp\"] = df_cleaned[\"cp\"].astype(int)\n",
    "final_suite.add_expectation(gxe.ExpectColumnValuesToBeOfType(column=\"cp\", type_=\"int\"))\n",
    "final_suite.add_expectation(gxe.ExpectColumnValuesToBeInSet(column=\"cp\", value_set=[1,2,3,4]))\n",
    "\n",
    "# Resting blood pressure (trestbps)\n",
    "df_cleaned[\"trestbps\"] = df_cleaned[\"trestbps\"].apply(lambda x: clean_question_mark_for_float_columns(x))\n",
    "final_suite.add_expectation(gxe.ExpectColumnValuesToBeOfType(column=\"trestbps\", type_=\"float\"))\n",
    "final_suite.add_expectation(gxe.ExpectColumnValuesToNotBeNull(column=\"trestbps\", mostly=MOSTLY))\n",
    "\n",
    "# Cholesterol (chol)\n",
    "df_cleaned[\"chol\"] = df_cleaned[\"chol\"].apply(lambda x: clean_question_mark_for_float_columns(x))\n",
    "final_suite.add_expectation(gxe.ExpectColumnValuesToBeOfType(column=\"chol\", type_=\"float\"))\n",
    "final_suite.add_expectation(gxe.ExpectColumnValuesToNotBeNull(column=\"chol\", mostly=MOSTLY))\n",
    "\n",
    "# Fasting blood sugar (fbs)\n",
    "df_cleaned[\"fbs\"] = df_cleaned[\"fbs\"].apply(lambda x: clean_question_mark_for_float_columns(x))\n",
    "final_suite.add_expectation(gxe.ExpectColumnValuesToBeOfType(column=\"fbs\", type_=\"float\"))\n",
    "final_suite.add_expectation(gxe.ExpectColumnValuesToBeInSet(column=\"fbs\", value_set=[0, 1]))\n",
    "final_suite.add_expectation(gxe.ExpectColumnValuesToNotBeNull(column=\"fbs\", mostly=MOSTLY))\n",
    "\n",
    "# Resting electrocardiographic results (restecg)\n",
    "df_cleaned[\"restecg\"] = df_cleaned[\"restecg\"].apply(lambda x: clean_question_mark_for_float_columns(x))\n",
    "final_suite.add_expectation(gxe.ExpectColumnValuesToBeOfType(column=\"restecg\", type_=\"float\"))\n",
    "final_suite.add_expectation(gxe.ExpectColumnValuesToBeInSet(column=\"restecg\", value_set=[0, 1, 2]))\n",
    "final_suite.add_expectation(gxe.ExpectColumnValuesToNotBeNull(column=\"restecg\", mostly=MOSTLY))\n",
    "\n",
    "# Maximum heart rate achieved (restecg)\n",
    "df_cleaned[\"thalach\"] = df_cleaned[\"thalach\"].apply(lambda x: clean_question_mark_for_float_columns(x))\n",
    "final_suite.add_expectation(gxe.ExpectColumnValuesToBeOfType(column=\"thalach\", type_=\"float\"))\n",
    "final_suite.add_expectation(gxe.ExpectColumnValuesToBeBetween(column=\"thalach\", min_value=0))\n",
    "final_suite.add_expectation(gxe.ExpectColumnValuesToNotBeNull(column=\"thalach\", mostly=MOSTLY))\n",
    "\n",
    "# Exercise induced angina (exang)\n",
    "df_cleaned[\"exang\"] = df_cleaned[\"exang\"].apply(lambda x: clean_question_mark_for_float_columns(x))\n",
    "final_suite.add_expectation(gxe.ExpectColumnValuesToBeOfType(column=\"exang\", type_=\"float\"))\n",
    "final_suite.add_expectation(gxe.ExpectColumnValuesToBeInSet(column=\"exang\", value_set=[0, 1]))\n",
    "final_suite.add_expectation(gxe.ExpectColumnValuesToNotBeNull(column=\"exang\", mostly=MOSTLY))\n",
    "\n",
    "# ST depression induced by exercise relative to rest (oldpeak)\n",
    "df_cleaned[\"oldpeak\"] = df_cleaned[\"oldpeak\"].apply(lambda x: clean_question_mark_for_float_columns(x))\n",
    "final_suite.add_expectation(gxe.ExpectColumnValuesToBeOfType(column=\"oldpeak\", type_=\"float\"))\n",
    "final_suite.add_expectation(gxe.ExpectColumnValuesToNotBeNull(column=\"oldpeak\", mostly=MOSTLY))\n",
    "\n",
    "# Slope of the peak exercise ST segment (slope)\n",
    "df_cleaned[\"slope\"] = df_cleaned[\"slope\"].apply(lambda x: clean_question_mark_for_float_columns(x))\n",
    "final_suite.add_expectation(gxe.ExpectColumnValuesToBeOfType(column=\"slope\", type_=\"float\"))\n",
    "final_suite.add_expectation(gxe.ExpectColumnValuesToBeInSet(column=\"slope\", value_set=[1, 2, 3]))\n",
    "final_suite.add_expectation(gxe.ExpectColumnValuesToNotBeNull(column=\"slope\", mostly=MOSTLY))\n",
    "\n",
    "# Major vessels (0-3) colored by flourosopy (ca)\n",
    "df_cleaned[\"ca\"] = df_cleaned[\"ca\"].apply(lambda x: clean_question_mark_for_float_columns(x))\n",
    "final_suite.add_expectation(gxe.ExpectColumnValuesToBeOfType(column=\"ca\", type_=\"float\"))\n",
    "final_suite.add_expectation(gxe.ExpectColumnValuesToBeInSet(column=\"ca\", value_set=[0, 1, 2, 3]))\n",
    "final_suite.add_expectation(gxe.ExpectColumnValuesToNotBeNull(column=\"ca\", mostly=MOSTLY))\n",
    "\n",
    "# Heart defect (thal)\n",
    "df_cleaned[\"thal\"] = df_cleaned[\"thal\"].apply(lambda x: clean_question_mark_for_float_columns(x))\n",
    "final_suite.add_expectation(gxe.ExpectColumnValuesToBeOfType(column=\"thal\", type_=\"float\"))\n",
    "final_suite.add_expectation(gxe.ExpectColumnValuesToBeInSet(column=\"thal\", value_set=[3, 6, 7]))\n",
    "final_suite.add_expectation(gxe.ExpectColumnValuesToNotBeNull(column=\"thal\", mostly=MOSTLY))\n",
    "\n",
    "# Diagnosis of heart disease (num)\n",
    "df_cleaned[\"num\"] = df_cleaned[\"num\"].astype(int)\n",
    "final_suite.add_expectation(gxe.ExpectColumnValuesToBeInSet(column=\"num\", value_set=[0, 1]))"
   ]
  },
  {
   "cell_type": "code",
   "execution_count": null,
   "id": "cd525a02-9c62-46ec-aa0e-848e2ab78ffb",
   "metadata": {},
   "outputs": [],
   "source": [
    "# Check the cleaned data against the final Expectation Suite.\n",
    "\n",
    "# Create Data Source, Data Asset, Batch Definition, and get Batch.\n",
    "data_asset_cleaned = data_source.add_dataframe_asset(name=\"Cleaned heart disease data\")\n",
    "\n",
    "batch_definition_cleaned = data_asset_cleaned.add_batch_definition_whole_dataframe(\"Cleaned data batch definition\")\n",
    "\n",
    "validation_definition_cleaned = gx.ValidationDefinition(\n",
    "    name=\"Cleaned data validation definition\",\n",
    "    data=batch_definition_cleaned,\n",
    "    suite=final_suite,\n",
    ")\n",
    "\n",
    "context.suites.add(final_suite)\n",
    "\n",
    "context.validation_definitions.add(validation_definition_cleaned)\n",
    "\n",
    "results = validation_definition.run(batch_parameters={\"dataframe\": df_cleaned})\n",
    "\n",
    "checkpoint_cleaned = context.checkpoints.add(gx.Checkpoint(\n",
    "    name=\"cleaned data checkpoint\",\n",
    "    validation_definitions=[validation_definition_cleaned],\n",
    "    actions=[gx.checkpoint.actions.UpdateDataDocsAction(name=\"update_data_docs\")]\n",
    "))\n",
    "\n",
    "results = checkpoint_cleaned.run(batch_parameters={\"dataframe\": df_cleaned})"
   ]
  },
  {
   "cell_type": "code",
   "execution_count": null,
   "id": "17dcf5e4-fdab-4ee1-9154-f5b6a382ac3f",
   "metadata": {},
   "outputs": [],
   "source": [
    "df_cleaned[df_cleaned[\"trestbps\"].isna()].shape"
   ]
  },
  {
   "cell_type": "code",
   "execution_count": null,
   "id": "3c190f3d-1000-4108-9696-914238ebcd1e",
   "metadata": {},
   "outputs": [],
   "source": [
    "df_cleaned.dtypes"
   ]
  },
  {
   "cell_type": "markdown",
   "id": "d88b2a00-e787-43b1-a02f-78a07626932a",
   "metadata": {},
   "source": [
    "## UCI ML data"
   ]
  },
  {
   "cell_type": "code",
   "execution_count": null,
   "id": "a87d3e35-e149-4eb0-8322-3df435e71d07",
   "metadata": {},
   "outputs": [],
   "source": [
    "heart_disease = ucimlrepo.fetch_ucirepo(id=45)\n",
    "\n",
    "X = heart_disease.data.features \n",
    "y = heart_disease.data.targets \n",
    "\n",
    "display(X.shape)\n",
    "display(X.head())"
   ]
  },
  {
   "cell_type": "code",
   "execution_count": null,
   "id": "9941901d-cd9f-4808-8e31-9af27b6d9d83",
   "metadata": {},
   "outputs": [],
   "source": []
  }
 ],
 "metadata": {
  "kernelspec": {
   "display_name": "gx-in-the-ml-pipeline",
   "language": "python",
   "name": "gx-in-the-ml-pipeline"
  },
  "language_info": {
   "codemirror_mode": {
    "name": "ipython",
    "version": 3
   },
   "file_extension": ".py",
   "mimetype": "text/x-python",
   "name": "python",
   "nbconvert_exporter": "python",
   "pygments_lexer": "ipython3",
   "version": "3.11.10"
  }
 },
 "nbformat": 4,
 "nbformat_minor": 5
}
