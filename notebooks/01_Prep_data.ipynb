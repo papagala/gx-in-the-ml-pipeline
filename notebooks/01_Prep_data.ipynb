{
 "cells": [
  {
   "cell_type": "markdown",
   "id": "66e8bdbb-5cbe-429c-a184-5e5727d5f0ec",
   "metadata": {},
   "source": [
    "# Data preparation\n",
    "* In this stage, data is explored, cleaned, and prepared for modeling.\n",
    "* GX is used to create and apply data quality definitions to the input data.\n",
    "* This demo uses the sample [Heart Disease dataset](https://archive.ics.uci.edu/dataset/45/heart+disease) available from the UCI ML Repository."
   ]
  },
  {
   "cell_type": "code",
   "execution_count": null,
   "id": "1275f511-9c91-4a61-8af9-111afeb61209",
   "metadata": {},
   "outputs": [],
   "source": [
    "import altair as alt\n",
    "import great_expectations as gx\n",
    "import great_expectations.expectations as gxe\n",
    "import pandas as pd\n",
    "import pathlib\n",
    "\n",
    "import demo_code as demo"
   ]
  },
  {
   "cell_type": "markdown",
   "id": "95a72d6b-b7dd-4b8e-a9de-d93153c66437",
   "metadata": {},
   "source": [
    "## Collect data"
   ]
  },
  {
   "cell_type": "code",
   "execution_count": null,
   "id": "32b54e29-1d83-4f2f-8cfd-4add5b43df28",
   "metadata": {},
   "outputs": [],
   "source": [
    "DATA_DIR = pathlib.Path(\"/notebooks/data\")\n",
    "\n",
    "RAW_DATA_DIR = DATA_DIR / \"raw\"\n",
    "CLEANED_DATA_DIR = DATA_DIR / \"cleaned\""
   ]
  },
  {
   "cell_type": "markdown",
   "id": "51b3b3ac-f2b5-480b-94ad-e892d5c41251",
   "metadata": {},
   "source": [
    "### Download raw patient data"
   ]
  },
  {
   "cell_type": "markdown",
   "id": "0a6569f8-f76d-45a7-8159-026edf37a32f",
   "metadata": {},
   "source": [
    "Download heart disease data from [the Heart Disease dataset](https://archive.ics.uci.edu/dataset/45/heart+disease) in the UCI ML Repository."
   ]
  },
  {
   "cell_type": "code",
   "execution_count": null,
   "id": "dec3db32-8c92-42dc-b1cf-709466b5601b",
   "metadata": {},
   "outputs": [],
   "source": [
    "demo.data.download_uci_heart_disease_data(RAW_DATA_DIR, force=False)"
   ]
  },
  {
   "cell_type": "markdown",
   "id": "3569b35b-5c9c-4f71-93e9-78170493fe11",
   "metadata": {},
   "source": [
    "### Ingest raw patient data into dataframe\n",
    "\n",
    "The columns and descriptions are defined below based on the data dictionary in the `heart_disease.names` contained in the downloaded data."
   ]
  },
  {
   "cell_type": "code",
   "execution_count": null,
   "id": "5e2751f5-6df4-4023-aaff-ea9f78a8ab6b",
   "metadata": {},
   "outputs": [],
   "source": [
    "display(\n",
    "    demo.data.display_heart_disease_data_dictionary().style.set_properties(\n",
    "        **{\"text-align\": \"left\"}\n",
    "    )\n",
    ")"
   ]
  },
  {
   "cell_type": "code",
   "execution_count": null,
   "id": "44032891-9905-48c4-a2a0-065f2c153cd9",
   "metadata": {},
   "outputs": [],
   "source": [
    "df_heart_disease = demo.data.load_uci_heart_disease_data(RAW_DATA_DIR)"
   ]
  },
  {
   "cell_type": "markdown",
   "id": "bf7bb217-330e-47fe-aa0c-1eeda2a2acf0",
   "metadata": {},
   "source": [
    "### Display sample of raw patient data"
   ]
  },
  {
   "cell_type": "code",
   "execution_count": null,
   "id": "fe7609d5-4183-40da-90fb-cef2ca07914f",
   "metadata": {},
   "outputs": [],
   "source": [
    "display(df_heart_disease.head())\n",
    "display(df_heart_disease.tail())"
   ]
  },
  {
   "cell_type": "markdown",
   "id": "c7a67c8e-88f1-4981-8a14-500cec33d53b",
   "metadata": {},
   "source": [
    "## Examine raw patient data using GX and Expectations"
   ]
  },
  {
   "cell_type": "markdown",
   "id": "d4a7b3a6-f3d6-487d-baa0-eb627473aade",
   "metadata": {},
   "source": [
    "### Define GX data validation workflow"
   ]
  },
  {
   "cell_type": "markdown",
   "id": "e30204c2-3e24-4def-b8bb-482c2b137dbf",
   "metadata": {},
   "source": [
    "Get a GX Data Context."
   ]
  },
  {
   "cell_type": "code",
   "execution_count": null,
   "id": "4d5d5c2c-728e-46e7-b00e-26974a33122c",
   "metadata": {},
   "outputs": [],
   "source": [
    "context = gx.get_context(mode=\"ephemeral\")"
   ]
  },
  {
   "cell_type": "code",
   "execution_count": null,
   "id": "120708d5-370a-48d3-b3c0-83f893803a1b",
   "metadata": {},
   "outputs": [],
   "source": [
    "# Code to create a containerized Data Docs site for demo.\n",
    "context.add_data_docs_site(\n",
    "    site_config={\n",
    "        \"class_name\": \"SiteBuilder\",\n",
    "        \"show_how_to_buttons\": False,\n",
    "        \"store_backend\": {\n",
    "            \"class_name\": \"TupleFilesystemStoreBackend\",\n",
    "            \"base_directory\": \"/gx/gx_volume/data_docs\",\n",
    "        },\n",
    "        \"site_index_builder\": {\"class_name\": \"DefaultSiteIndexBuilder\"},\n",
    "    },\n",
    "    site_name=\"GX in the ML pipeline demo\",\n",
    ")"
   ]
  },
  {
   "cell_type": "markdown",
   "id": "65db1fb1-48e0-4b43-875d-8cb9d8dfe830",
   "metadata": {},
   "source": [
    "Create the Data Source, Data Asset, Batch Definition, and the get Batch of data."
   ]
  },
  {
   "cell_type": "code",
   "execution_count": null,
   "id": "c45e3838-263e-473b-bbc1-595252b71106",
   "metadata": {},
   "outputs": [],
   "source": [
    "pandas_data_source = context.data_sources.add_pandas(\"pandas\")\n",
    "pandas_data_asset = pandas_data_source.add_dataframe_asset(\n",
    "    name=\"Raw heart disease data\"\n",
    ")\n",
    "\n",
    "pandas_batch_definition = pandas_data_asset.add_batch_definition_whole_dataframe(\n",
    "    \"batch definition\"\n",
    ")\n",
    "batch = pandas_batch_definition.get_batch(\n",
    "    batch_parameters={\"dataframe\": df_heart_disease}\n",
    ")"
   ]
  },
  {
   "cell_type": "markdown",
   "id": "c0c848ef-53f8-46ce-b8f8-8b6b5b1b4dc8",
   "metadata": {},
   "source": [
    "Create the Expectation Suite."
   ]
  },
  {
   "cell_type": "code",
   "execution_count": null,
   "id": "6fcdb874-025f-4010-9dd7-01c0dc37900f",
   "metadata": {},
   "outputs": [],
   "source": [
    "suite = context.suites.add(\n",
    "    gx.core.expectation_suite.ExpectationSuite(name=\"Heart disease data: exploratory\")\n",
    ")"
   ]
  },
  {
   "cell_type": "markdown",
   "id": "4d33583e-f9d1-4014-960c-cf1b8a91cd2e",
   "metadata": {},
   "source": [
    "Create and add Expectations to the Suite, based on the provided data definitions."
   ]
  },
  {
   "cell_type": "code",
   "execution_count": null,
   "id": "e498cb24-8f35-479e-8081-d8a55d14d0e3",
   "metadata": {},
   "outputs": [],
   "source": [
    "suite.add_expectation(\n",
    "    gxe.ExpectColumnValuesToBeBetween(column=\"age\", min_value=0, max_value=99)\n",
    ")\n",
    "\n",
    "suite.add_expectation(gxe.ExpectColumnValuesToBeInSet(column=\"sex\", value_set=[0, 1]))\n",
    "\n",
    "suite.add_expectation(\n",
    "    gxe.ExpectColumnValuesToBeInSet(column=\"cp\", value_set=[1, 2, 3, 4])\n",
    ")\n",
    "\n",
    "suite.add_expectation(gxe.ExpectColumnValuesToBeOfType(column=\"trestbps\", type_=\"int\"))"
   ]
  },
  {
   "cell_type": "markdown",
   "id": "22d1c8c1-f573-458d-9159-1909d916bbef",
   "metadata": {},
   "source": [
    "Run Expectations against the data and capture the Validation Result."
   ]
  },
  {
   "cell_type": "code",
   "execution_count": null,
   "id": "ce210e42-e63c-46a3-a52e-44654b26eac8",
   "metadata": {},
   "outputs": [],
   "source": [
    "validation_result = batch.validate(suite)"
   ]
  },
  {
   "cell_type": "markdown",
   "id": "b3a140e3-86ee-4af6-8610-17041136f3d0",
   "metadata": {},
   "source": [
    "### Explore Validation Results"
   ]
  },
  {
   "cell_type": "markdown",
   "id": "4a0ef936-af67-4edd-8811-3ab39ac9b40d",
   "metadata": {},
   "source": [
    "Running the Validation returns a `ExpectationSuiteValidationResult` object."
   ]
  },
  {
   "cell_type": "code",
   "execution_count": null,
   "id": "bee165f8-577e-4a55-871f-00d9f18304b2",
   "metadata": {},
   "outputs": [],
   "source": [
    "type(validation_result)"
   ]
  },
  {
   "cell_type": "markdown",
   "id": "74da8273-4263-4883-85fa-91512745aaf9",
   "metadata": {},
   "source": [
    "The `success` key indicates whether or not all Expectations passed."
   ]
  },
  {
   "cell_type": "code",
   "execution_count": null,
   "id": "56709994-a98c-441d-8ff3-2a047e414d76",
   "metadata": {},
   "outputs": [],
   "source": [
    "validation_result[\"success\"]"
   ]
  },
  {
   "cell_type": "markdown",
   "id": "5993536e-d203-4fed-86fb-8bd83ccecdc1",
   "metadata": {},
   "source": [
    "The `statistics` key contains summary information on how many Expectations passed."
   ]
  },
  {
   "cell_type": "code",
   "execution_count": null,
   "id": "7067b26c-cf44-4047-896e-0e978c643126",
   "metadata": {},
   "outputs": [],
   "source": [
    "validation_result[\"statistics\"]"
   ]
  },
  {
   "cell_type": "markdown",
   "id": "dff4dd19-9633-47c9-a227-72dfdf8ad8fc",
   "metadata": {},
   "source": [
    "The `results` key provides a list of results for each Expectation that was run.\n",
    "\n",
    "First, examine results for a passing Expectation."
   ]
  },
  {
   "cell_type": "code",
   "execution_count": null,
   "id": "55fc1d6f-fab5-44e1-847c-857cd746b65a",
   "metadata": {},
   "outputs": [],
   "source": [
    "validation_result[\"results\"][0]"
   ]
  },
  {
   "cell_type": "markdown",
   "id": "0b969072-3124-4750-a994-18de5467f840",
   "metadata": {},
   "source": [
    "Next, examine results from a failing Expectation."
   ]
  },
  {
   "cell_type": "code",
   "execution_count": null,
   "id": "4c8c122a-e882-4246-9403-bbdccfa795df",
   "metadata": {},
   "outputs": [],
   "source": [
    "validation_result[\"results\"][3]"
   ]
  },
  {
   "cell_type": "markdown",
   "id": "5a226219-75a3-434e-a094-3a907f198ccc",
   "metadata": {},
   "source": [
    "Parse the Validation Result object to summarize result data by Expectation in the notebook."
   ]
  },
  {
   "cell_type": "code",
   "execution_count": null,
   "id": "8b3b6bb3-db79-4dab-b9c6-58f63966e8ff",
   "metadata": {},
   "outputs": [],
   "source": [
    "expectation_results = []\n",
    "\n",
    "for expectation_result in validation_result.describe_dict()[\"expectations\"]:\n",
    "\n",
    "    params = expectation_result[\"kwargs\"].copy()\n",
    "    del params[\"batch_id\"]\n",
    "    del params[\"column\"]\n",
    "\n",
    "    expectation_results.append(\n",
    "        {\n",
    "            \"expectation\": expectation_result[\"expectation_type\"],\n",
    "            \"column\": expectation_result[\"kwargs\"][\"column\"],\n",
    "            \"params\": params,\n",
    "            \"success\": expectation_result[\"success\"],\n",
    "            \"element_count\": expectation_result[\"result\"][\"element_count\"],\n",
    "            \"unexpected_count\": expectation_result[\"result\"][\"unexpected_count\"],\n",
    "            \"unexpected_percent\": expectation_result[\"result\"][\"unexpected_percent\"],\n",
    "            \"missing_count\": expectation_result[\"result\"][\"missing_count\"],\n",
    "            \"missing_percent\": expectation_result[\"result\"][\"missing_percent\"],\n",
    "        }\n",
    "    )\n",
    "\n",
    "df_expectation_results = pd.DataFrame(expectation_results)\n",
    "df_expectation_results"
   ]
  },
  {
   "cell_type": "markdown",
   "id": "8856de6c-cbc9-4b5f-8fd8-529d34662ec6",
   "metadata": {},
   "source": [
    "### Explore Validation Results in Data Docs"
   ]
  },
  {
   "cell_type": "markdown",
   "id": "5e70b8aa-c8a0-49b8-9dc1-42ec7aa85984",
   "metadata": {},
   "source": [
    "Create the ValidationDefinition, which pairs a Batch of data with an Expectation Suite."
   ]
  },
  {
   "cell_type": "code",
   "execution_count": null,
   "id": "9175680f-aff1-4ba8-823f-c401beb16fe0",
   "metadata": {},
   "outputs": [],
   "source": [
    "validation_definition = context.validation_definitions.add(\n",
    "    gx.ValidationDefinition(\n",
    "        name=\"demo validation definition\",\n",
    "        data=pandas_batch_definition,\n",
    "        suite=suite,\n",
    "    )\n",
    ")"
   ]
  },
  {
   "cell_type": "markdown",
   "id": "9503eaa7-022c-4ad1-a2de-e1d7d2499512",
   "metadata": {},
   "source": [
    "Run the ValidationDefinition using a Checkpoint, and write the results to Data Docs."
   ]
  },
  {
   "cell_type": "code",
   "execution_count": null,
   "id": "93dee35a-f9fb-4e05-9e7c-46a19c111849",
   "metadata": {},
   "outputs": [],
   "source": [
    "checkpoint = context.checkpoints.add(\n",
    "    gx.Checkpoint(\n",
    "        name=\"checkpoint\",\n",
    "        validation_definitions=[validation_definition],\n",
    "        actions=[gx.checkpoint.actions.UpdateDataDocsAction(name=\"update_data_docs\")],\n",
    "    )\n",
    ")\n",
    "\n",
    "results = checkpoint.run(batch_parameters={\"dataframe\": df_heart_disease})"
   ]
  },
  {
   "cell_type": "markdown",
   "id": "faebcb10-43e9-49c5-9ca5-f459ff0cb230",
   "metadata": {},
   "source": [
    "### View Expectation Suite and Validation Results in [Data Docs](http://localhost:3000)"
   ]
  },
  {
   "cell_type": "markdown",
   "id": "d0f60792-ecab-414a-8cae-5fe379e6b92e",
   "metadata": {},
   "source": [
    "Data Docs translate Expectation Suites, Validation Results, and other metadata into human-readable documentation that is saved as a static site. Data Docs are part of the GX Core open source offerings.\n",
    "\n",
    "Data Docs is running as a [containerized site](http://localhost:3000) for this demo."
   ]
  },
  {
   "cell_type": "markdown",
   "id": "c95b5939-752d-4372-86fd-68573295daeb",
   "metadata": {},
   "source": [
    "## Clean data and preserve data quality standards in an Expectation Suite"
   ]
  },
  {
   "cell_type": "code",
   "execution_count": null,
   "id": "97016c1f-69fe-4843-a40a-04fb3b23326d",
   "metadata": {},
   "outputs": [],
   "source": [
    "df_cleaned = df_heart_disease.copy()"
   ]
  },
  {
   "cell_type": "markdown",
   "id": "78c9468b-e3ea-4114-925a-6b9e3dca4eeb",
   "metadata": {},
   "source": [
    "### Create Expectation Suite for schema and validity requirements"
   ]
  },
  {
   "cell_type": "markdown",
   "id": "023263fe-75d5-4ec0-83e9-d80f9a46b85f",
   "metadata": {},
   "source": [
    "Create a new Expectation Suite that codifies schema and validity standards for data used for modeling."
   ]
  },
  {
   "cell_type": "code",
   "execution_count": null,
   "id": "408d5974-862a-47fc-a439-ed5b792170c7",
   "metadata": {},
   "outputs": [],
   "source": [
    "schema_and_validity_suite = gx.ExpectationSuite(\n",
    "    name=\"Heart disease data: schema and validity\"\n",
    ")"
   ]
  },
  {
   "cell_type": "markdown",
   "id": "887a4d49-8a69-4341-9427-6ea33cd71996",
   "metadata": {},
   "source": [
    "### Clean and define data quality definitions at the same time"
   ]
  },
  {
   "cell_type": "markdown",
   "id": "6c4a6c0d-18f1-45b8-b961-4b5aaa6a6c01",
   "metadata": {},
   "source": [
    "Define common cleaning constants."
   ]
  },
  {
   "cell_type": "code",
   "execution_count": null,
   "id": "1899266c-6e9a-41ab-b791-ee1b8a6335f6",
   "metadata": {},
   "outputs": [],
   "source": [
    "INTEGER_TYPES = [\"int\", \"BIGINT\"]\n",
    "FLOAT_TYPES = [\"float\", \"DOUBLE_PRECISION\"]"
   ]
  },
  {
   "cell_type": "markdown",
   "id": "39c9dc18-1e42-4cd7-a421-aca3d3078487",
   "metadata": {},
   "source": [
    "Clean the `age` column and define quality definition:\n",
    "* Clean the `age` column to enforce an `int` type and add a `ExpectColumnValuesToBeInTypeList` Expectation that validates for an `int` or `BIGINT` type.\n",
    "* Add an `ExpectColumnValuesToBeBetween` Expectation to validate that patient age is between `0` and `99` years."
   ]
  },
  {
   "cell_type": "code",
   "execution_count": null,
   "id": "b15f172d-689f-4aa0-b0f0-5af79a70ff0d",
   "metadata": {},
   "outputs": [],
   "source": [
    "# Age\n",
    "df_cleaned[\"age\"] = df_cleaned[\"age\"].astype(int)\n",
    "schema_and_validity_suite.add_expectation(\n",
    "    gxe.ExpectColumnValuesToBeInTypeList(column=\"age\", type_list=INTEGER_TYPES)\n",
    ")\n",
    "schema_and_validity_suite.add_expectation(\n",
    "    gxe.ExpectColumnValuesToBeBetween(column=\"age\", min_value=0, max_value=99)\n",
    ")"
   ]
  },
  {
   "cell_type": "markdown",
   "id": "38f39dc3-b628-4d32-b182-9de24a7167f7",
   "metadata": {},
   "source": [
    "Clean the `trestbps` (resting heart rate) and define quality definition:\n",
    "* Clean the `trestbps` (resting heart rate) column to enforce a `float` type and convert non-decimal values to null. Add a `ExpectColumnValuesToBeInTypeList` Expectation that validates for a `float` or `DOUBLE_PRECISION` type.\n",
    "* Add an `ExpectColumnValuesToNotBeNull` Expectation to validate that `trestbps` is non-null at least 90% of the time."
   ]
  },
  {
   "cell_type": "code",
   "execution_count": null,
   "id": "3140481a-07b7-44a6-ba64-7fa06a61a73a",
   "metadata": {},
   "outputs": [],
   "source": [
    "# Resting blood pressure (trestbps)\n",
    "df_cleaned[\"trestbps\"] = df_cleaned[\"trestbps\"].apply(\n",
    "    lambda x: demo.data.clean_question_mark_for_float_columns(x)\n",
    ")\n",
    "schema_and_validity_suite.add_expectation(\n",
    "    gxe.ExpectColumnValuesToBeInTypeList(column=\"trestbps\", type_list=FLOAT_TYPES)\n",
    ")\n",
    "schema_and_validity_suite.add_expectation(\n",
    "    gxe.ExpectColumnValuesToNotBeNull(column=\"trestbps\", mostly=0.9)\n",
    ")"
   ]
  },
  {
   "cell_type": "markdown",
   "id": "9a45cc51-1ba1-4b44-9d6d-89b12f46eaaf",
   "metadata": {},
   "source": [
    "Continue to clean remaining dataset fields while defining Expectations."
   ]
  },
  {
   "cell_type": "code",
   "execution_count": null,
   "id": "388a9fd6-be5b-4165-b031-fd084c0f4c7f",
   "metadata": {},
   "outputs": [],
   "source": [
    "# Sex\n",
    "df_cleaned[\"sex\"] = df_cleaned[\"sex\"].astype(int)\n",
    "schema_and_validity_suite.add_expectation(\n",
    "    gxe.ExpectColumnValuesToBeInTypeList(column=\"sex\", type_list=INTEGER_TYPES)\n",
    ")\n",
    "schema_and_validity_suite.add_expectation(\n",
    "    gxe.ExpectColumnValuesToBeInSet(column=\"sex\", value_set=[0, 1])\n",
    ")\n",
    "\n",
    "# Chest pain\n",
    "df_cleaned[\"cp\"] = df_cleaned[\"cp\"].astype(int)\n",
    "schema_and_validity_suite.add_expectation(\n",
    "    gxe.ExpectColumnValuesToBeInTypeList(column=\"cp\", type_list=INTEGER_TYPES)\n",
    ")\n",
    "schema_and_validity_suite.add_expectation(\n",
    "    gxe.ExpectColumnValuesToBeInSet(column=\"cp\", value_set=[1, 2, 3, 4])\n",
    ")\n",
    "\n",
    "# Cholesterol (chol)\n",
    "df_cleaned[\"chol\"] = df_cleaned[\"chol\"].apply(\n",
    "    lambda x: demo.data.clean_question_mark_for_float_columns(x)\n",
    ")\n",
    "schema_and_validity_suite.add_expectation(\n",
    "    gxe.ExpectColumnValuesToBeInTypeList(column=\"chol\", type_list=FLOAT_TYPES)\n",
    ")\n",
    "schema_and_validity_suite.add_expectation(\n",
    "    gxe.ExpectColumnValuesToNotBeNull(column=\"chol\", mostly=demo.data.MOSTLY)\n",
    ")\n",
    "\n",
    "# Fasting blood sugar (fbs)\n",
    "df_cleaned[\"fbs\"] = df_cleaned[\"fbs\"].apply(\n",
    "    lambda x: demo.data.clean_question_mark_for_float_columns(x)\n",
    ")\n",
    "schema_and_validity_suite.add_expectation(\n",
    "    gxe.ExpectColumnValuesToBeInTypeList(column=\"fbs\", type_list=FLOAT_TYPES)\n",
    ")\n",
    "schema_and_validity_suite.add_expectation(\n",
    "    gxe.ExpectColumnValuesToBeInSet(column=\"fbs\", value_set=[0, 1])\n",
    ")\n",
    "schema_and_validity_suite.add_expectation(\n",
    "    gxe.ExpectColumnValuesToNotBeNull(column=\"fbs\", mostly=demo.data.MOSTLY)\n",
    ")\n",
    "\n",
    "# Resting electrocardiographic results (restecg)\n",
    "df_cleaned[\"restecg\"] = df_cleaned[\"restecg\"].apply(\n",
    "    lambda x: demo.data.clean_question_mark_for_float_columns(x)\n",
    ")\n",
    "schema_and_validity_suite.add_expectation(\n",
    "    gxe.ExpectColumnValuesToBeInTypeList(column=\"restecg\", type_list=FLOAT_TYPES)\n",
    ")\n",
    "schema_and_validity_suite.add_expectation(\n",
    "    gxe.ExpectColumnValuesToBeInSet(column=\"restecg\", value_set=[0, 1, 2])\n",
    ")\n",
    "schema_and_validity_suite.add_expectation(\n",
    "    gxe.ExpectColumnValuesToNotBeNull(column=\"restecg\", mostly=demo.data.MOSTLY)\n",
    ")\n",
    "\n",
    "# Maximum heart rate achieved (restecg)\n",
    "df_cleaned[\"thalach\"] = df_cleaned[\"thalach\"].apply(\n",
    "    lambda x: demo.data.clean_question_mark_for_float_columns(x)\n",
    ")\n",
    "schema_and_validity_suite.add_expectation(\n",
    "    gxe.ExpectColumnValuesToBeInTypeList(column=\"thalach\", type_list=FLOAT_TYPES)\n",
    ")\n",
    "schema_and_validity_suite.add_expectation(\n",
    "    gxe.ExpectColumnValuesToBeBetween(column=\"thalach\", min_value=0)\n",
    ")\n",
    "schema_and_validity_suite.add_expectation(\n",
    "    gxe.ExpectColumnValuesToNotBeNull(column=\"thalach\", mostly=demo.data.MOSTLY)\n",
    ")\n",
    "\n",
    "# Exercise induced angina (exang)\n",
    "df_cleaned[\"exang\"] = df_cleaned[\"exang\"].apply(\n",
    "    lambda x: demo.data.clean_question_mark_for_float_columns(x)\n",
    ")\n",
    "schema_and_validity_suite.add_expectation(\n",
    "    gxe.ExpectColumnValuesToBeInTypeList(column=\"exang\", type_list=FLOAT_TYPES)\n",
    ")\n",
    "schema_and_validity_suite.add_expectation(\n",
    "    gxe.ExpectColumnValuesToBeInSet(column=\"exang\", value_set=[0, 1])\n",
    ")\n",
    "schema_and_validity_suite.add_expectation(\n",
    "    gxe.ExpectColumnValuesToNotBeNull(column=\"exang\", mostly=demo.data.MOSTLY)\n",
    ")\n",
    "\n",
    "# ST depression induced by exercise relative to rest (oldpeak)\n",
    "df_cleaned[\"oldpeak\"] = df_cleaned[\"oldpeak\"].apply(\n",
    "    lambda x: demo.data.clean_question_mark_for_float_columns(x)\n",
    ")\n",
    "schema_and_validity_suite.add_expectation(\n",
    "    gxe.ExpectColumnValuesToBeInTypeList(column=\"oldpeak\", type_list=FLOAT_TYPES)\n",
    ")\n",
    "schema_and_validity_suite.add_expectation(\n",
    "    gxe.ExpectColumnValuesToNotBeNull(column=\"oldpeak\", mostly=demo.data.MOSTLY)\n",
    ")\n",
    "\n",
    "# Slope of the peak exercise ST segment (slope)\n",
    "df_cleaned[\"slope\"] = df_cleaned[\"slope\"].apply(\n",
    "    lambda x: demo.data.clean_question_mark_for_float_columns(x)\n",
    ")\n",
    "schema_and_validity_suite.add_expectation(\n",
    "    gxe.ExpectColumnValuesToBeInTypeList(column=\"slope\", type_list=FLOAT_TYPES)\n",
    ")\n",
    "schema_and_validity_suite.add_expectation(\n",
    "    gxe.ExpectColumnValuesToBeInSet(column=\"slope\", value_set=[1, 2, 3])\n",
    ")\n",
    "schema_and_validity_suite.add_expectation(\n",
    "    gxe.ExpectColumnValuesToNotBeNull(column=\"slope\", mostly=0.6)\n",
    ")\n",
    "\n",
    "# Major vessels (0-3) colored by flourosopy (ca)\n",
    "df_cleaned[\"ca\"] = df_cleaned[\"ca\"].apply(\n",
    "    lambda x: demo.data.clean_question_mark_for_float_columns(x)\n",
    ")\n",
    "schema_and_validity_suite.add_expectation(\n",
    "    gxe.ExpectColumnValuesToBeInTypeList(column=\"ca\", type_list=FLOAT_TYPES)\n",
    ")\n",
    "schema_and_validity_suite.add_expectation(\n",
    "    gxe.ExpectColumnValuesToBeInSet(column=\"ca\", value_set=[0, 1, 2, 3])\n",
    ")\n",
    "schema_and_validity_suite.add_expectation(\n",
    "    gxe.ExpectColumnValuesToNotBeNull(column=\"ca\", mostly=0.3)\n",
    ")\n",
    "\n",
    "# Heart defect (thal)\n",
    "df_cleaned[\"thal\"] = df_cleaned[\"thal\"].apply(\n",
    "    lambda x: demo.data.clean_question_mark_for_float_columns(x)\n",
    ")\n",
    "schema_and_validity_suite.add_expectation(\n",
    "    gxe.ExpectColumnValuesToBeInTypeList(column=\"thal\", type_list=FLOAT_TYPES)\n",
    ")\n",
    "schema_and_validity_suite.add_expectation(\n",
    "    gxe.ExpectColumnValuesToBeInSet(column=\"thal\", value_set=[3, 6, 7])\n",
    ")\n",
    "schema_and_validity_suite.add_expectation(\n",
    "    gxe.ExpectColumnValuesToNotBeNull(column=\"thal\", mostly=0.4)\n",
    ")\n",
    "\n",
    "# Diagnosis of heart disease (num)\n",
    "df_cleaned[\"num\"] = df_cleaned[\"num\"].astype(int)\n",
    "df_cleaned[\"num\"] = df_cleaned[\"num\"].apply(lambda x: 0 if x == 0 else 1)\n",
    "\n",
    "schema_and_validity_suite.add_expectation(\n",
    "    gxe.ExpectColumnValuesToBeInSet(column=\"num\", value_set=[0, 1])\n",
    ")"
   ]
  },
  {
   "cell_type": "markdown",
   "id": "b7d85bff-dfba-4f33-a52b-c0b6dae1654a",
   "metadata": {},
   "source": [
    "Define the expected schema for the dataset based on columns present. "
   ]
  },
  {
   "cell_type": "code",
   "execution_count": null,
   "id": "985d170d-a5be-4cf3-8714-7c0d30f2a013",
   "metadata": {},
   "outputs": [],
   "source": [
    "# Dataset schema expectations.\n",
    "schema_and_validity_suite.add_expectation(\n",
    "    gxe.ExpectTableColumnsToMatchOrderedList(column_list=demo.data.COLUMNS)\n",
    ")\n",
    "\n",
    "df_cleaned = df_cleaned[demo.data.CLEANED_COLUMNS]"
   ]
  },
  {
   "cell_type": "markdown",
   "id": "ddeb950b-1719-4d95-9d5c-48988002539f",
   "metadata": {},
   "source": [
    "### Create Expectation Suite for distribution requirements"
   ]
  },
  {
   "cell_type": "markdown",
   "id": "7cb0dc5b-bb0f-4b97-ad6b-0132df03ee0e",
   "metadata": {},
   "source": [
    "As part of EDA, examine the distribution of the patient `age` column."
   ]
  },
  {
   "cell_type": "code",
   "execution_count": null,
   "id": "314f13ea-34ea-4125-8b5d-10ec2004deb9",
   "metadata": {},
   "outputs": [],
   "source": [
    "alt.Chart(df_cleaned).mark_bar().encode(\n",
    "    alt.X(\"age\", bin=alt.Bin(extent=[25, 80], step=5)),\n",
    "    alt.Y(\"count()\"),\n",
    "    tooltip=[\"age\", \"count()\"],\n",
    ")"
   ]
  },
  {
   "cell_type": "markdown",
   "id": "ed171112-dcbb-487c-9bbd-7daf3c375600",
   "metadata": {},
   "source": [
    "Create a new Expectation Suite to define distribution requirements."
   ]
  },
  {
   "cell_type": "code",
   "execution_count": null,
   "id": "6982f1db-faed-481c-880a-72ee5eddff04",
   "metadata": {},
   "outputs": [],
   "source": [
    "distribution_suite = gx.core.expectation_suite.ExpectationSuite(\n",
    "    name=\"Heart disease data: distribution\"\n",
    ")"
   ]
  },
  {
   "cell_type": "markdown",
   "id": "e6770cdb-3e91-45b7-a9de-1f05b676bd64",
   "metadata": {},
   "source": [
    "Add distribution Expectations for the `age` column based on EDA."
   ]
  },
  {
   "cell_type": "code",
   "execution_count": null,
   "id": "9cea521a-a4d9-4b13-b4ee-58e52983ba0a",
   "metadata": {},
   "outputs": [],
   "source": [
    "distribution_suite.add_expectation(\n",
    "    gxe.ExpectColumnQuantileValuesToBeBetween(\n",
    "        column=\"age\",\n",
    "        quantile_ranges={\n",
    "            \"quantiles\": [0, 0.25, 0.5, 0.75, 1],\n",
    "            \"value_ranges\": [[25, 32], [45, 50], [50, 55], [58, 62], [75, 80]],\n",
    "        },\n",
    "    )\n",
    ")\n",
    "\n",
    "# Disable auto-formatting the bins and weights lists.\n",
    "# fmt: off\n",
    "distribution_suite.add_expectation(\n",
    "    gxe.ExpectColumnKLDivergenceToBeLessThan(\n",
    "        column=\"age\",\n",
    "        partition_object={\n",
    "            \"bins\": [25, 30, 35, 40, 45, 50, 55, 60, 65, 70, 75, 80],\n",
    "            \"weights\": [0.004, 0.018, 0.064, 0.107, 0.124, 0.196, 0.212, 0.163, 0.078, 0.026, 0.008],\n",
    "        },\n",
    "        threshold=0.1,\n",
    "    )\n",
    ")\n",
    "# fmt: on"
   ]
  },
  {
   "cell_type": "markdown",
   "id": "e10efa4d-2881-42c9-9591-f65ace26fac6",
   "metadata": {},
   "source": [
    "### Persist prepared data to Postgres"
   ]
  },
  {
   "cell_type": "markdown",
   "id": "5a8d4347-5910-4ba1-916e-69bbf6b44313",
   "metadata": {},
   "source": [
    "Write the prepared data to Postgres (running as a containerized service for this demo)."
   ]
  },
  {
   "cell_type": "code",
   "execution_count": null,
   "id": "373bb06a-eb4c-4f03-bc2b-af0fe61bf6b9",
   "metadata": {},
   "outputs": [],
   "source": [
    "rows_written = demo.data.write_df_to_postgres(table_name=\"heart_disease\", df=df_cleaned)\n",
    "print(f\"{rows_written} rows written to Postgres.\")"
   ]
  },
  {
   "cell_type": "markdown",
   "id": "94cede31-fe15-47a5-a098-6a672fc97c0b",
   "metadata": {},
   "source": [
    "### Run Expectation Suites against prepared data in Postgres"
   ]
  },
  {
   "cell_type": "markdown",
   "id": "2a263432-626d-43d6-a6d6-a065c42d626e",
   "metadata": {},
   "source": [
    "Use the same steps as previously shown for the GX data validation workflow.\n",
    "\n",
    "First, create the Data Source, Data Asset, and Batch Definition."
   ]
  },
  {
   "cell_type": "code",
   "execution_count": null,
   "id": "cd525a02-9c62-46ec-aa0e-848e2ab78ffb",
   "metadata": {},
   "outputs": [],
   "source": [
    "postgres_data_source = context.data_sources.add_postgres(\n",
    "    \"postgres\", connection_string=demo.data.POSTGRES_CONNECTION_STRING\n",
    ")\n",
    "\n",
    "postgres_data_asset = postgres_data_source.add_table_asset(\n",
    "    name=\"Prepared heart disease data\", table_name=\"heart_disease\"\n",
    ")\n",
    "\n",
    "postgres_batch_definition = postgres_data_asset.add_batch_definition_whole_table(\n",
    "    \"prepared data batch definition\"\n",
    ")"
   ]
  },
  {
   "cell_type": "markdown",
   "id": "f6c170d4-8b95-4495-969b-4e5b5e497c92",
   "metadata": {},
   "source": [
    "Add the Expectation Suites and Validation Definitions."
   ]
  },
  {
   "cell_type": "code",
   "execution_count": null,
   "id": "1fd558a9-74a4-4b0a-ab6e-1cc786a2dbdb",
   "metadata": {},
   "outputs": [],
   "source": [
    "context.suites.add(schema_and_validity_suite)\n",
    "context.suites.add(distribution_suite)\n",
    "\n",
    "schema_and_validity_validation_definition = gx.ValidationDefinition(\n",
    "    name=\"validation definition for schema and validity\",\n",
    "    data=postgres_batch_definition,\n",
    "    suite=schema_and_validity_suite,\n",
    ")\n",
    "\n",
    "distribution_validation_definition = gx.ValidationDefinition(\n",
    "    name=\"validation definition for distribution\",\n",
    "    data=postgres_batch_definition,\n",
    "    suite=distribution_suite,\n",
    ")\n",
    "\n",
    "# (Capture and discard final line output to keep notebook cleaner for demo).\n",
    "context.validation_definitions.add(schema_and_validity_validation_definition)\n",
    "_ = context.validation_definitions.add(distribution_validation_definition)"
   ]
  },
  {
   "cell_type": "markdown",
   "id": "1f99351c-b908-4248-b82c-cefc719cafc9",
   "metadata": {},
   "source": [
    "Define and run the Checkpoint, write results to Data Docs."
   ]
  },
  {
   "cell_type": "code",
   "execution_count": null,
   "id": "f6153075-cf84-43f9-9235-f2ad1b557541",
   "metadata": {},
   "outputs": [],
   "source": [
    "checkpoint = context.checkpoints.add(\n",
    "    gx.Checkpoint(\n",
    "        name=\"cleaned data checkpoint\",\n",
    "        validation_definitions=[\n",
    "            schema_and_validity_validation_definition,\n",
    "            distribution_validation_definition,\n",
    "        ],\n",
    "        actions=[gx.checkpoint.actions.UpdateDataDocsAction(name=\"update_data_docs\")],\n",
    "    )\n",
    ")\n",
    "\n",
    "results = checkpoint.run()"
   ]
  },
  {
   "cell_type": "markdown",
   "id": "77951ed5-9700-49ce-acc3-61e177958960",
   "metadata": {},
   "source": [
    "### View Expectation Suite and Validation Results in [Data Docs](http://localhost:3000)"
   ]
  },
  {
   "cell_type": "markdown",
   "id": "d5779e76-2197-4be3-873e-abe50237322a",
   "metadata": {},
   "source": [
    "## Store Expectation Suite and Validation Results in GX Cloud "
   ]
  },
  {
   "cell_type": "markdown",
   "id": "821bd0d4-e56e-429a-bef8-5683d3b44030",
   "metadata": {},
   "source": [
    "### Clean GX Cloud sandbox for demo"
   ]
  },
  {
   "cell_type": "markdown",
   "id": "58b92f34-b48e-4c84-9989-2fd80da304fe",
   "metadata": {},
   "source": [
    "Clean previously created demo entities from the GX Cloud org before re-running the data validation workflow that saves demo entities to GX Cloud."
   ]
  },
  {
   "cell_type": "code",
   "execution_count": null,
   "id": "f68469fb-d3ad-4b49-ac5f-26401edaaeab",
   "metadata": {},
   "outputs": [],
   "source": [
    "demo.data.clean_demo_data_from_gx_cloud_org(\n",
    "    context=gx.get_context(mode=\"cloud\"),\n",
    "    data_source_name=\"demo database\",\n",
    "    expectation_suite_names=[\n",
    "        \"Heart disease data: schema and validity\",\n",
    "        \"Heart disease data: distribution\",\n",
    "    ],\n",
    "    validation_definition_names=[\n",
    "        \"schema and validity validation definition\",\n",
    "        \"distribution validation definition\",\n",
    "        \"new data schema and validity validation definition\",\n",
    "        \"new data distribution validation definition\",\n",
    "    ],\n",
    "    checkpoint_names=[\n",
    "        \"Prepared heart disease data checkpoint\",\n",
    "        \"New heart disease data checkpoint\",\n",
    "    ],\n",
    ")"
   ]
  },
  {
   "cell_type": "markdown",
   "id": "6bc8d71c-a4a8-4366-8067-98ea9707b9e4",
   "metadata": {},
   "source": [
    "### Save Expectation Suite to GX Cloud and run data validation"
   ]
  },
  {
   "cell_type": "markdown",
   "id": "9049e3de-8c4a-4ef0-9fd4-40e20d323f14",
   "metadata": {},
   "source": [
    "Use the same data validation workflow as last shown, but create a Cloud Data Context. The `gx.get_context(mode=\"cloud\")` call automatically discovers  GX Cloud credentials stored in the `GX_CLOUD_ORGANIZATION_ID` and `GX_CLOUD_ACCESS_TOKEN` environment variables."
   ]
  },
  {
   "cell_type": "code",
   "execution_count": null,
   "id": "51e9ec8d-b968-4878-bf3c-67d0f40b9f04",
   "metadata": {},
   "outputs": [],
   "source": [
    "# Get a Data Context for GX Cloud organization.\n",
    "cloud_context = gx.get_context(mode=\"cloud\")"
   ]
  },
  {
   "cell_type": "markdown",
   "id": "4555ab49-ef33-41c0-b614-4f99cc848ac2",
   "metadata": {},
   "source": [
    "Run the same data validation workflow, using the Cloud Data Context, to store GX workflow entities in GX Cloud."
   ]
  },
  {
   "cell_type": "code",
   "execution_count": null,
   "id": "8eaecdfd-dea2-4ee7-b741-0ca567220ce9",
   "metadata": {},
   "outputs": [],
   "source": [
    "# Create Data Source, Data Asset, Batch Definition.\n",
    "cloud_data_source = cloud_context.data_sources.add_postgres(\n",
    "    \"demo database\", connection_string=demo.data.POSTGRES_CONNECTION_STRING\n",
    ")\n",
    "\n",
    "cloud_data_asset = cloud_data_source.add_table_asset(\n",
    "    name=\"Prepared heart disease data\", table_name=\"heart_disease\"\n",
    ")\n",
    "\n",
    "cloud_batch_definition = cloud_data_asset.add_batch_definition_whole_table(\n",
    "    \"prepared data batch definition\"\n",
    ")\n",
    "\n",
    "# Add previously defined Expectation Suites.\n",
    "cloud_context.suites.add(schema_and_validity_suite)\n",
    "cloud_context.suites.add(distribution_suite)\n",
    "\n",
    "# Create Validation Definitions.\n",
    "cloud_schema_and_validity_validation_definition = gx.ValidationDefinition(\n",
    "    name=\"schema and validity validation definition\",\n",
    "    data=cloud_batch_definition,\n",
    "    suite=schema_and_validity_suite,\n",
    ")\n",
    "\n",
    "cloud_distribution_validation_definition = gx.ValidationDefinition(\n",
    "    name=\"distribution validation definition\",\n",
    "    data=cloud_batch_definition,\n",
    "    suite=distribution_suite,\n",
    ")\n",
    "\n",
    "cloud_context.validation_definitions.add(\n",
    "    cloud_schema_and_validity_validation_definition\n",
    ")\n",
    "cloud_context.validation_definitions.add(cloud_distribution_validation_definition)\n",
    "\n",
    "# Create Checkpoint.\n",
    "cloud_checkpoint = cloud_context.checkpoints.add(\n",
    "    gx.Checkpoint(\n",
    "        name=\"Prepared heart disease data checkpoint\",\n",
    "        validation_definitions=[\n",
    "            cloud_schema_and_validity_validation_definition,\n",
    "            cloud_distribution_validation_definition,\n",
    "        ],\n",
    "    )\n",
    ")"
   ]
  },
  {
   "cell_type": "markdown",
   "id": "9e6c3ee3-b993-4ca1-a44e-00d413e57140",
   "metadata": {},
   "source": [
    "### View Data Asset and Expectation Suites in [GX Cloud](https://app.greatexpectations.io)"
   ]
  },
  {
   "cell_type": "markdown",
   "id": "703b4acd-ad1f-431c-8157-84762080c44c",
   "metadata": {},
   "source": [
    "Run the Checkpoint to persist Validation Results in GX Cloud."
   ]
  },
  {
   "cell_type": "code",
   "execution_count": null,
   "id": "2e198592-fcb1-4df2-822c-f97d98a3866d",
   "metadata": {},
   "outputs": [],
   "source": [
    "results = cloud_checkpoint.run()"
   ]
  },
  {
   "cell_type": "markdown",
   "id": "0faed7a8-7ec2-4bdf-93ad-8d5c5444f3c7",
   "metadata": {},
   "source": [
    "### Validation Results in [GX Cloud](https://app.greatexpectations.io)"
   ]
  }
 ],
 "metadata": {
  "kernelspec": {
   "display_name": "gx-in-the-ml-pipeline",
   "language": "python",
   "name": "gx-in-the-ml-pipeline"
  },
  "language_info": {
   "codemirror_mode": {
    "name": "ipython",
    "version": 3
   },
   "file_extension": ".py",
   "mimetype": "text/x-python",
   "name": "python",
   "nbconvert_exporter": "python",
   "pygments_lexer": "ipython3",
   "version": "3.11.10"
  }
 },
 "nbformat": 4,
 "nbformat_minor": 5
}
