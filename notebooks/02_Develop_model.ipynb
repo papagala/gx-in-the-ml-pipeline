{
 "cells": [
  {
   "cell_type": "code",
   "execution_count": null,
   "id": "e40059d0-a654-482f-b8e0-7d83e133b7c6",
   "metadata": {},
   "outputs": [],
   "source": [
    "import great_expectations as gx\n",
    "import pandas as pd\n",
    "import mlflow\n",
    "import sklearn\n",
    "import pathlib\n",
    "\n",
    "import demo_code as demo\n",
    "import mlflow"
   ]
  },
  {
   "cell_type": "code",
   "execution_count": null,
   "id": "880d744f-c4ff-41a6-96c5-51ffb5daf4b1",
   "metadata": {},
   "outputs": [],
   "source": [
    "mlflow.autolog()"
   ]
  },
  {
   "cell_type": "markdown",
   "id": "5485302f-4c21-4ff6-847f-a6271c651fa6",
   "metadata": {},
   "source": [
    "## Load cleaned data"
   ]
  },
  {
   "cell_type": "code",
   "execution_count": null,
   "id": "d9590863-1b3c-4700-b03f-24ec7cbde835",
   "metadata": {},
   "outputs": [],
   "source": [
    "DATA_DIR = pathlib.Path(\"/notebooks/data\")\n",
    "CLEANED_DATA_DIR = DATA_DIR / \"cleaned\""
   ]
  },
  {
   "cell_type": "code",
   "execution_count": null,
   "id": "33bb6026-ff6a-4d33-ad41-7d3625e4b022",
   "metadata": {},
   "outputs": [],
   "source": [
    "df_features = pd.read_csv(CLEANED_DATA_DIR / \"heart_data.csv\")\n",
    "df_features.head()"
   ]
  },
  {
   "cell_type": "markdown",
   "id": "b21194e1-656a-4f1e-a7cb-c54dc595020c",
   "metadata": {},
   "source": [
    "## Feature engineering"
   ]
  },
  {
   "cell_type": "code",
   "execution_count": null,
   "id": "dff204c5-bd4a-4cb9-9ceb-fbd41659e96d",
   "metadata": {},
   "outputs": [],
   "source": [
    "# Drop dataset annotation.\n",
    "df_features = df_features.drop([\"dataset\"], axis=1)\n",
    "\n",
    "# Scale (standardize) numeric features.\n",
    "standard_scalar = sklearn.preprocessing.StandardScaler()\n",
    "\n",
    "for col in [\"age\", \"trestbps\", \"chol\", \"thalach\", \"oldpeak\"]:\n",
    "    df_features[col] = standard_scalar.fit_transform(df_features[[col]])\n",
    "\n",
    "# One hot encode cp.\n",
    "cp_ohe = pd.DataFrame(\n",
    "    sklearn.preprocessing.OneHotEncoder().fit_transform(df_features[[\"cp\"]]).todense()\n",
    ")\n",
    "cp_ohe.columns = [\"cp_0\", \"cp_1\", \"cp_2\", \"cp_3\"]\n",
    "df_features = pd.concat([df_features, cp_ohe], axis=1)\n",
    "\n",
    "df_features = df_features[demo.data.FEATURE_COLUMNS]\n",
    "\n",
    "df_features.head()"
   ]
  },
  {
   "cell_type": "markdown",
   "id": "9e914f1e-fb01-439d-8356-94b159f8077f",
   "metadata": {},
   "source": [
    "## Train/test set"
   ]
  },
  {
   "cell_type": "code",
   "execution_count": null,
   "id": "19d5e66b-d150-4243-aa43-9605dce0e7a0",
   "metadata": {},
   "outputs": [],
   "source": [
    "df_features"
   ]
  },
  {
   "cell_type": "code",
   "execution_count": null,
   "id": "43060adb-2e51-4210-b04a-022c875dcaa4",
   "metadata": {},
   "outputs": [],
   "source": [
    "X = df_features.iloc[:, :-1]\n",
    "y = df_features.iloc[:, -1]"
   ]
  },
  {
   "cell_type": "code",
   "execution_count": null,
   "id": "12939675-320c-411d-8790-57e2c7955b7a",
   "metadata": {},
   "outputs": [],
   "source": [
    "X_train, X_test, y_train, y_test = sklearn.model_selection.train_test_split(\n",
    "    X, y, train_size=0.8, test_size=0.2, random_state=42\n",
    ")"
   ]
  },
  {
   "cell_type": "code",
   "execution_count": null,
   "id": "12736134-e8f7-4eee-8f85-f2204f8b53fe",
   "metadata": {},
   "outputs": [],
   "source": [
    "X_train"
   ]
  },
  {
   "cell_type": "markdown",
   "id": "02549de7-90af-48c8-afbf-a1da8c733b9b",
   "metadata": {},
   "source": [
    "## Model training"
   ]
  },
  {
   "cell_type": "code",
   "execution_count": null,
   "id": "167cc6d4-aea2-4546-a350-71ad48d654c1",
   "metadata": {},
   "outputs": [],
   "source": [
    "from sklearn.ensemble import RandomForestClassifier\n",
    "\n",
    "classifier = RandomForestClassifier(max_depth=4, random_state=0)\n",
    "\n",
    "classifier.fit(X_train, y_train)\n",
    "\n",
    "prediction = classifier.predict(X_test)\n",
    "\n",
    "cv = sklearn.model_selection.RepeatedStratifiedKFold(\n",
    "    n_splits=10, n_repeats=3, random_state=1\n",
    ")\n",
    "print(\n",
    "    \"Accuracy : \", \"{0:.2%}\".format(sklearn.metrics.accuracy_score(y_test, prediction))\n",
    ")\n",
    "print(\n",
    "    \"Cross Validation Score : \",\n",
    "    \"{0:.2%}\".format(\n",
    "        sklearn.model_selection.cross_val_score(\n",
    "            classifier, X_train, y_train, cv=cv, scoring=\"roc_auc\"\n",
    "        ).mean()\n",
    "    ),\n",
    ")\n",
    "print(\n",
    "    \"ROC_AUC Score : \",\n",
    "    \"{0:.2%}\".format(sklearn.metrics.roc_auc_score(y_test, prediction)),\n",
    ")"
   ]
  },
  {
   "cell_type": "code",
   "execution_count": null,
   "id": "9008646e-05a7-4649-b28f-65b7e574ebc4",
   "metadata": {},
   "outputs": [],
   "source": []
  }
 ],
 "metadata": {
  "kernelspec": {
   "display_name": "gx-in-the-ml-pipeline",
   "language": "python",
   "name": "gx-in-the-ml-pipeline"
  },
  "language_info": {
   "codemirror_mode": {
    "name": "ipython",
    "version": 3
   },
   "file_extension": ".py",
   "mimetype": "text/x-python",
   "name": "python",
   "nbconvert_exporter": "python",
   "pygments_lexer": "ipython3",
   "version": "3.11.10"
  }
 },
 "nbformat": 4,
 "nbformat_minor": 5
}
