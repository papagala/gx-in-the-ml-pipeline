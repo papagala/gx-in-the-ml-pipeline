{
 "cells": [
  {
   "cell_type": "markdown",
   "id": "e5fc9a4b-541c-4d4f-a057-5a393e0512f9",
   "metadata": {},
   "source": [
    "## UCI ML data"
   ]
  },
  {
   "cell_type": "code",
   "execution_count": null,
   "id": "627feac9-ddcf-44b1-b8a0-1effd79eb02a",
   "metadata": {},
   "outputs": [],
   "source": [
    "import ucimlrepo"
   ]
  },
  {
   "cell_type": "code",
   "execution_count": null,
   "id": "33509a47-9057-4f48-9932-70c219294887",
   "metadata": {},
   "outputs": [],
   "source": [
    "heart_disease = ucimlrepo.fetch_ucirepo(id=45)\n",
    "\n",
    "X = heart_disease.data.features\n",
    "y = heart_disease.data.targets\n",
    "\n",
    "display(X.shape)\n",
    "display(X.head())"
   ]
  },
  {
   "cell_type": "code",
   "execution_count": null,
   "id": "7a8a3492-f069-4c51-a55c-1dc63c216fa0",
   "metadata": {},
   "outputs": [],
   "source": []
  }
 ],
 "metadata": {
  "kernelspec": {
   "display_name": "gx-in-the-ml-pipeline",
   "language": "python",
   "name": "gx-in-the-ml-pipeline"
  },
  "language_info": {
   "codemirror_mode": {
    "name": "ipython",
    "version": 3
   },
   "file_extension": ".py",
   "mimetype": "text/x-python",
   "name": "python",
   "nbconvert_exporter": "python",
   "pygments_lexer": "ipython3",
   "version": "3.11.10"
  }
 },
 "nbformat": 4,
 "nbformat_minor": 5
}
